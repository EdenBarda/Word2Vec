{
 "cells": [
  {
   "cell_type": "markdown",
   "id": "f008fdbe-2fe0-48fb-bf66-f6929cec764b",
   "metadata": {},
   "source": [
    "# Word2Vec Implementation using the Skip-Gram model"
   ]
  },
  {
   "cell_type": "markdown",
   "id": "38a481c7-59ba-475b-9b2c-c9e2bf942f82",
   "metadata": {},
   "source": [
    "### by: Eden Barda and Zehavit Barda\n"
   ]
  },
  {
   "cell_type": "markdown",
   "id": "031f54b0-560c-4d23-95a7-614f71b40334",
   "metadata": {},
   "source": [
    "### Read dataset "
   ]
  },
  {
   "cell_type": "code",
   "execution_count": 1,
   "id": "1685c817-ef23-48f9-b01e-429d8b5b4638",
   "metadata": {},
   "outputs": [
    {
     "data": {
      "text/html": [
       "<div>\n",
       "<style scoped>\n",
       "    .dataframe tbody tr th:only-of-type {\n",
       "        vertical-align: middle;\n",
       "    }\n",
       "\n",
       "    .dataframe tbody tr th {\n",
       "        vertical-align: top;\n",
       "    }\n",
       "\n",
       "    .dataframe thead th {\n",
       "        text-align: right;\n",
       "    }\n",
       "</style>\n",
       "<table border=\"1\" class=\"dataframe\">\n",
       "  <thead>\n",
       "    <tr style=\"text-align: right;\">\n",
       "      <th></th>\n",
       "      <th>title</th>\n",
       "      <th>text</th>\n",
       "    </tr>\n",
       "  </thead>\n",
       "  <tbody>\n",
       "    <tr>\n",
       "      <th>0</th>\n",
       "      <td>Truly is \"Jewel of the Upper Wets Side\"</td>\n",
       "      <td>Stayed in a king suite for 11 nights and yes i...</td>\n",
       "    </tr>\n",
       "    <tr>\n",
       "      <th>1</th>\n",
       "      <td>My home away from home!</td>\n",
       "      <td>On every visit to NYC, the Hotel Beacon is the...</td>\n",
       "    </tr>\n",
       "    <tr>\n",
       "      <th>2</th>\n",
       "      <td>Great Stay</td>\n",
       "      <td>This is a great property in Midtown. We two di...</td>\n",
       "    </tr>\n",
       "    <tr>\n",
       "      <th>3</th>\n",
       "      <td>Modern Convenience</td>\n",
       "      <td>The Andaz is a nice hotel in a central locatio...</td>\n",
       "    </tr>\n",
       "    <tr>\n",
       "      <th>4</th>\n",
       "      <td>Its the best of the Andaz Brand in the US....</td>\n",
       "      <td>I have stayed at each of the US Andaz properti...</td>\n",
       "    </tr>\n",
       "  </tbody>\n",
       "</table>\n",
       "</div>"
      ],
      "text/plain": [
       "                                           title  \\\n",
       "0        Truly is \"Jewel of the Upper Wets Side\"   \n",
       "1                        My home away from home!   \n",
       "2                                     Great Stay   \n",
       "3                             Modern Convenience   \n",
       "4  Its the best of the Andaz Brand in the US....   \n",
       "\n",
       "                                                text  \n",
       "0  Stayed in a king suite for 11 nights and yes i...  \n",
       "1  On every visit to NYC, the Hotel Beacon is the...  \n",
       "2  This is a great property in Midtown. We two di...  \n",
       "3  The Andaz is a nice hotel in a central locatio...  \n",
       "4  I have stayed at each of the US Andaz properti...  "
      ]
     },
     "execution_count": 1,
     "metadata": {},
     "output_type": "execute_result"
    }
   ],
   "source": [
    "import pandas as pd\n",
    "import numpy as np\n",
    "import tensorflow as tf\n",
    "import pyarrow as pa\n",
    "import random\n",
    "import tqdm\n",
    "import re\n",
    "import matplotlib.pyplot as plt\n",
    "from tensorflow.keras.layers import Input, Embedding, Dot, Flatten, Activation\n",
    "from tensorflow.keras.models import Model\n",
    "from typing import List, Dict, Tuple\n",
    "\n",
    "path_to_data = 'review_230k.parquet'\n",
    "data = pd.read_parquet(path_to_data)\n",
    "data.head()"
   ]
  },
  {
   "cell_type": "code",
   "execution_count": 2,
   "id": "0d2abf69-dec8-450b-89b5-594a7226cae0",
   "metadata": {},
   "outputs": [],
   "source": [
    "def create_dataset(data: pd.DataFrame) -> pd.core.series.Series:\n",
    "    '''\n",
    "    Create the dataset in your preferrable format\n",
    "    pram: data - all the review data\n",
    "    return: only the text of the review itself\n",
    "    '''\n",
    "    dataset = data['text']\n",
    "    return dataset\n",
    "\n",
    "dataset = create_dataset(data)"
   ]
  },
  {
   "cell_type": "markdown",
   "id": "71c4e719-a0c9-4ce3-8feb-e0ec551b4c76",
   "metadata": {},
   "source": [
    "### Clean and standardize the data"
   ]
  },
  {
   "cell_type": "code",
   "execution_count": 3,
   "id": "cbdb4643-5bde-4356-8576-3077c66ea0c5",
   "metadata": {},
   "outputs": [
    {
     "name": "stdout",
     "output_type": "stream",
     "text": [
      "Number of reviews after cleaning the dataset: 194502\n"
     ]
    }
   ],
   "source": [
    "def clean_text(text: str) -> str:\n",
    "    '''\n",
    "    Clean the text data by removing characters that not in English and lowercasing\n",
    "    pram: text - one review for the data before cleaning\n",
    "    return: the clean review\n",
    "    '''\n",
    "    text = text.lower()\n",
    "    text = re.sub(r'\\W+', ' ', text) # remove special characters\n",
    "    if re.search(r'[^a-z0-9\\s]', text): # filtering texts with non-english\n",
    "        return ''\n",
    "    return text.strip()\n",
    "\n",
    "def prepare_dataset(dataset: pd.core.series.Series) -> List[List[str]]:\n",
    "    '''\n",
    "    Clean and prepare the dataset before word encoding\n",
    "    pram: dataset - the dataset\n",
    "    return: cleaned text\n",
    "    '''\n",
    "    dataset = dataset.apply(clean_text) # clean the text in every row of the data\n",
    "    dataset = dataset[dataset != '']\n",
    "    dataset_list = []\n",
    "    for text in dataset:\n",
    "        dataset_list.append(text.split())  # split text into words\n",
    "    return dataset_list\n",
    "\n",
    "dataset = prepare_dataset(dataset)\n",
    "print(f'Number of reviews after cleaning the dataset: {len(dataset)}')"
   ]
  },
  {
   "cell_type": "code",
   "execution_count": 4,
   "id": "78103558-bce9-405f-8382-a5ab5f95475a",
   "metadata": {},
   "outputs": [
    {
     "name": "stdout",
     "output_type": "stream",
     "text": [
      "Each sentence has 116.0 words in the median.\n",
      "Each sentence has 144.64 words on average.\n"
     ]
    },
    {
     "data": {
      "image/png": "[encoded data removed]",
      "text/plain": [
       "<Figure size 1500x500 with 1 Axes>"
      ]
     },
     "metadata": {},
     "output_type": "display_data"
    }
   ],
   "source": [
    "review_length = []\n",
    "for review in dataset:\n",
    "    num_words = len(review)\n",
    "    review_length.append(num_words)\n",
    "\n",
    "review_length = np.array(review_length)\n",
    "print(f'Each sentence has {np.median(review_length)} words in the median.')\n",
    "print(f'Each sentence has {np.mean(review_length):.2f} words on average.')\n",
    "\n",
    "xlabel='Length'\n",
    "ylabel='Frequency'\n",
    "title='Reviews Length'\n",
    "plt.figure(figsize=(15, 5))\n",
    "plt.hist(review_length, bins=100, range=(0, 500), edgecolor='black')\n",
    "plt.xlabel(xlabel)\n",
    "plt.ylabel(ylabel)\n",
    "plt.title(title)\n",
    "plt.show()"
   ]
  },
  {
   "cell_type": "markdown",
   "id": "01c78cd3-3671-4912-8029-3e7bd7830e5f",
   "metadata": {},
   "source": [
    "We will choose text_length of 120 for generating the vucabulary and the traning data, because every sentense has 145 words in the mean, and 116 in the median."
   ]
  },
  {
   "cell_type": "code",
   "execution_count": 5,
   "id": "abd543cc-4704-4028-a5c2-9b31a37ee469",
   "metadata": {},
   "outputs": [],
   "source": [
    "text_length = 120"
   ]
  },
  {
   "cell_type": "markdown",
   "id": "86d4fd16-3787-411e-b098-32a1de657f71",
   "metadata": {},
   "source": [
    "### Create A vocabulary "
   ]
  },
  {
   "cell_type": "markdown",
   "id": "1d66b731-6b79-4f43-a6e0-785ade921972",
   "metadata": {},
   "source": [
    "#### We want the vocabulary to be that the most frequent words come first from 1 to the num of words in the data."
   ]
  },
  {
   "cell_type": "code",
   "execution_count": 6,
   "id": "a56e5ae3-712a-4a30-8b50-a7f5ac3cf684",
   "metadata": {},
   "outputs": [
    {
     "name": "stdout",
     "output_type": "stream",
     "text": [
      "number of words in the vocabulary: 48157\n"
     ]
    }
   ],
   "source": [
    "def create_vocabulary(dataset: pd.core.series.Series, text_length: int) -> Dict[str, int]:\n",
    "    '''\n",
    "    Create a dictionary mapping each word to an index based on frequency (ascending order)\n",
    "    pram: dataset - the data of the text\n",
    "    return: the vocabulary with all the words that appear more than one time in the text\n",
    "    '''\n",
    "    vocabulary: Dict[str, int] = {}\n",
    "    for text in dataset:\n",
    "        for word in text[:min(text_length, len(text))]:\n",
    "            if word in vocabulary:\n",
    "                vocabulary[word] += 1\n",
    "            else:\n",
    "                vocabulary[word] = 1\n",
    "\n",
    "    stop_words = {'a', 'an', 'the', 'is', 'are', 'am', 'have', 'has', 'had', 'having',\n",
    "                  'do', 'does', 'did', 'was', 'were', 'be', 'been', 'being'}  # not useful Words - to filter out\n",
    "    filtered_vocabulary = {\n",
    "        word: count for word, count in vocabulary.items()\n",
    "        if count > 1 and word not in stop_words # filter out words that appear only once\n",
    "    }\n",
    "\n",
    "    sorted_words = sorted(filtered_vocabulary.items(), key=lambda item: item[1], reverse=True) # sort words by frequency\n",
    "\n",
    "    # Create vocabulary with special tokens\n",
    "    frequency_based_vocabulary = {'': 0, '[UNK]': 1}\n",
    "    for index, (word, _) in enumerate(sorted_words):\n",
    "        frequency_based_vocabulary[word] = index + 2\n",
    "        \n",
    "    return frequency_based_vocabulary\n",
    "\n",
    "vocabulary = create_vocabulary(dataset, text_length)\n",
    "vocabulary_list = list(vocabulary)\n",
    "vocabulary_size = len(vocabulary_list)\n",
    "print(f'number of words in the vocabulary: {vocabulary_size}')"
   ]
  },
  {
   "cell_type": "markdown",
   "id": "cdfa0b49-60b8-407e-9d6b-c5eef5f2e28e",
   "metadata": {},
   "source": [
    "### Word encoding "
   ]
  },
  {
   "cell_type": "markdown",
   "id": "7fb906ef-e136-4b0a-a083-68370c27b530",
   "metadata": {},
   "source": [
    "Example using tensoflow "
   ]
  },
  {
   "cell_type": "code",
   "execution_count": 7,
   "id": "613de2a3-dc06-43ac-a1bc-5feaca9ea5bd",
   "metadata": {},
   "outputs": [
    {
     "name": "stdout",
     "output_type": "stream",
     "text": [
      "['stayed', 'in', 'a', 'king', 'suite', 'for', '11', 'nights', 'and', 'yes'] -> [ 31   4   1 243 143   9 695  84   2 438]\n",
      "['on', 'every', 'visit', 'to', 'nyc', 'the', 'hotel', 'beacon', 'is', 'the'] -> [  17  160  232    3   60    1    7 1704    1    1]\n",
      "['this', 'is', 'a', 'great', 'property', 'in', 'midtown', 'we', 'two', 'different'] -> [ 15   1   1  23 418   4 359   6  82 439]\n"
     ]
    }
   ],
   "source": [
    "encoded_dataset = []\n",
    "\n",
    "# replace the words in the text into their embedding\n",
    "for text in dataset:\n",
    "    encoded_text = []\n",
    "    for word in text[:min(len(text), text_length)]:\n",
    "        if word in vocabulary:\n",
    "            encoded_text.append(vocabulary[word])\n",
    "        else: # it one of the stop_words or appears in the text only once\n",
    "            encoded_text.append(vocabulary['[UNK]'])     \n",
    "    if len(encoded_text) < text_length:\n",
    "        encoded_text.extend([vocabulary['']] * (text_length - len(encoded_text))) # Pad it with 0 till it's 120 words\n",
    "    encoded_dataset.append(np.array(encoded_text, dtype='uint16'))\n",
    "\n",
    "for i in range(3):\n",
    "    print(dataset[i][:10], '->', encoded_dataset[i][:10])"
   ]
  },
  {
   "cell_type": "markdown",
   "id": "3d1cb0a0-78a4-469a-8081-f325d97c8974",
   "metadata": {},
   "source": [
    "### Generate Positive and Negative Pairs "
   ]
  },
  {
   "cell_type": "markdown",
   "id": "c4173f1c-7701-437f-a7ab-06e44c54a1b3",
   "metadata": {},
   "source": [
    "#### After running various tests, we found that the best set of hyperparameters that gets good results on finding relationships between words, is value of 2 for the window size and 20 negative samples."
   ]
  },
  {
   "cell_type": "code",
   "execution_count": 8,
   "id": "5f6ae55e-c73b-426c-b9db-0e21ccea55b4",
   "metadata": {},
   "outputs": [],
   "source": [
    "def skipgrams(sequence: np.array, sampling_table: np.array) -> List[List[int]]:\n",
    "    '''\n",
    "    Generate positive skip-gram pairs from a sequence of words\n",
    "    pram: sequence - list of numbers that represent sentence\n",
    "          sampling_table - determine how much word supposed to be in the training data\n",
    "    return: list of couples of positive skip-gram\n",
    "    '''\n",
    "    seed = 123\n",
    "    couples = []\n",
    "    for i, first in enumerate(sequence):\n",
    "        if sampling_table[first] < random.random() or not first: # word will be in the traning as her probability in sampling_table\n",
    "            continue\n",
    "        window_start = max(0, i - window_size) # window words before\n",
    "        window_end = min(len(sequence), i + window_size + 1) # window words after\n",
    "        for j in range(window_start, window_end):\n",
    "            if j != i:\n",
    "                second = sequence[j]\n",
    "                if not second: # if its empty word\n",
    "                    continue\n",
    "                couples.append([first, second])\n",
    "    random.seed(seed)\n",
    "    random.shuffle(couples)\n",
    "    return couples\n",
    "\n",
    "def make_sampling_table(vocabulary_size: int, sampling_factor = 1e-5) -> np.array:\n",
    "    '''\n",
    "    Reduce the number of very frequent words, which are often less informative\n",
    "    this function assumes that the data follows Zipf’s law: https://he.wikipedia.org/wiki/חוק_זיף\n",
    "    pram: vocabulary_size - the size of the vocabulary\n",
    "          sampling_factor - scales the frequency to determine the threshold for sampling\n",
    "    return: sampling table\n",
    "    '''\n",
    "    frequency = [1]\n",
    "    for i in range(1, vocabulary_size):\n",
    "        frequency.append(1/(i * (np.log(i) + np.euler_gamma) + 1/2 - 1/(12*i))) # numrical Zipf's law (Harmonic series approximation)\n",
    "    frequency = np.array(frequency)\n",
    "    sampling_table = np.minimum(1, 1 / np.sqrt(frequency/sampling_factor))\n",
    "    return sampling_table"
   ]
  },
  {
   "cell_type": "code",
   "execution_count": 9,
   "id": "4296a7d4-4180-4ba7-abe2-e99a2d21d060",
   "metadata": {},
   "outputs": [
    {
     "name": "stderr",
     "output_type": "stream",
     "text": [
      "100%|██████████████████████████████████████████████████████████████████████████| 194502/194502 [35:58<00:00, 90.10it/s]\n"
     ]
    }
   ],
   "source": [
    "window_size=2\n",
    "number_of_negative_samples=20\n",
    "\n",
    "sampling_table = make_sampling_table(vocabulary_size)\n",
    "\n",
    "targets, contexts, labels = [], [], []\n",
    "\n",
    "for sequence in tqdm.tqdm(encoded_dataset):\n",
    "    positive_skip_grams = skipgrams(sequence, sampling_table)\n",
    "\n",
    "    # iterate over each positive skip-gram pair to produce training examples\n",
    "    # with a positive context word and negative samples.\n",
    "    for target_word, context_word in positive_skip_grams:\n",
    "        context_class = tf.expand_dims(tf.constant([context_word], dtype='int64'), 1)\n",
    "        negative_sampling_candidates, _, _ = tf.random.log_uniform_candidate_sampler(\n",
    "          true_classes=context_class,\n",
    "          num_true=1,\n",
    "          num_sampled=number_of_negative_samples,\n",
    "          unique=True,\n",
    "          range_max=vocabulary_size,\n",
    "          seed=123,\n",
    "          name='negative_sampling')\n",
    "        \n",
    "        # build context and label vectors (for one target word)\n",
    "        context = tf.concat([tf.squeeze(context_class,1), negative_sampling_candidates], 0)\n",
    "    \n",
    "        # append each element from the training example to global lists.\n",
    "        targets.append(target_word)\n",
    "        contexts.append(context)\n",
    "\n",
    "# Create thelabels with the pattern [1, 0, 0, ..., 0]\n",
    "pattern = np.array([1] + [0] * number_of_negative_samples) \n",
    "labels = np.array([pattern for _ in range(len(targets))], dtype='uint8') # always 0 and 1"
   ]
  },
  {
   "cell_type": "code",
   "execution_count": 10,
   "id": "0f5af3db-d520-4b3f-9096-e7310e87c6dd",
   "metadata": {},
   "outputs": [],
   "source": [
    "'''\n",
    "vocabulary_size 48157 < 65535 (unsigned int with 16 bits max value)\n",
    "WARNING: if used on another database - check if len(vocabulary_list) < 65535 before running\n",
    "'''\n",
    "targets = np.array(targets, dtype='uint16')\n",
    "contexts = np.array(contexts, dtype='uint16') "
   ]
  },
  {
   "cell_type": "markdown",
   "id": "00c4ab2b-49f3-4a10-9236-c7da3fd79be6",
   "metadata": {},
   "source": [
    "### Define the model "
   ]
  },
  {
   "cell_type": "code",
   "execution_count": 11,
   "id": "acfd407e-a966-49ac-9ffa-3d99f484dcad",
   "metadata": {},
   "outputs": [
    {
     "data": {
      "text/html": [
       "<pre style=\"white-space:pre;overflow-x:auto;line-height:normal;font-family:Menlo,'DejaVu Sans Mono',consolas,'Courier New',monospace\"><span style=\"font-weight: bold\">Model: \"scip_gram_word2vec\"</span>\n",
       "</pre>\n"
      ],
      "text/plain": [
       "\u001b[1mModel: \"scip_gram_word2vec\"\u001b[0m\n"
      ]
     },
     "metadata": {},
     "output_type": "display_data"
    },
    {
     "data": {
      "text/html": [
       "<pre style=\"white-space:pre;overflow-x:auto;line-height:normal;font-family:Menlo,'DejaVu Sans Mono',consolas,'Courier New',monospace\">┏━━━━━━━━━━━━━━━━━━━━━━━━━━━━━━━┳━━━━━━━━━━━━━━━━━━━━━━━━━━━┳━━━━━━━━━━━━━━━━━┳━━━━━━━━━━━━━━━━━━━━━━━━━━━━┓\n",
       "┃<span style=\"font-weight: bold\"> Layer (type)                  </span>┃<span style=\"font-weight: bold\"> Output Shape              </span>┃<span style=\"font-weight: bold\">         Param # </span>┃<span style=\"font-weight: bold\"> Connected to               </span>┃\n",
       "┡━━━━━━━━━━━━━━━━━━━━━━━━━━━━━━━╇━━━━━━━━━━━━━━━━━━━━━━━━━━━╇━━━━━━━━━━━━━━━━━╇━━━━━━━━━━━━━━━━━━━━━━━━━━━━┩\n",
       "│ targets (<span style=\"color: #0087ff; text-decoration-color: #0087ff\">InputLayer</span>)          │ (<span style=\"color: #00d7ff; text-decoration-color: #00d7ff\">None</span>, <span style=\"color: #00af00; text-decoration-color: #00af00\">1</span>)                 │               <span style=\"color: #00af00; text-decoration-color: #00af00\">0</span> │ -                          │\n",
       "├───────────────────────────────┼───────────────────────────┼─────────────────┼────────────────────────────┤\n",
       "│ contexts (<span style=\"color: #0087ff; text-decoration-color: #0087ff\">InputLayer</span>)         │ (<span style=\"color: #00d7ff; text-decoration-color: #00d7ff\">None</span>, <span style=\"color: #00af00; text-decoration-color: #00af00\">21</span>)                │               <span style=\"color: #00af00; text-decoration-color: #00af00\">0</span> │ -                          │\n",
       "├───────────────────────────────┼───────────────────────────┼─────────────────┼────────────────────────────┤\n",
       "│ embedding_target (<span style=\"color: #0087ff; text-decoration-color: #0087ff\">Embedding</span>)  │ (<span style=\"color: #00d7ff; text-decoration-color: #00d7ff\">None</span>, <span style=\"color: #00af00; text-decoration-color: #00af00\">1</span>, <span style=\"color: #00af00; text-decoration-color: #00af00\">40</span>)             │       <span style=\"color: #00af00; text-decoration-color: #00af00\">1,926,280</span> │ targets[<span style=\"color: #00af00; text-decoration-color: #00af00\">0</span>][<span style=\"color: #00af00; text-decoration-color: #00af00\">0</span>]              │\n",
       "├───────────────────────────────┼───────────────────────────┼─────────────────┼────────────────────────────┤\n",
       "│ embedding_context (<span style=\"color: #0087ff; text-decoration-color: #0087ff\">Embedding</span>) │ (<span style=\"color: #00d7ff; text-decoration-color: #00d7ff\">None</span>, <span style=\"color: #00af00; text-decoration-color: #00af00\">21</span>, <span style=\"color: #00af00; text-decoration-color: #00af00\">40</span>)            │       <span style=\"color: #00af00; text-decoration-color: #00af00\">1,926,280</span> │ contexts[<span style=\"color: #00af00; text-decoration-color: #00af00\">0</span>][<span style=\"color: #00af00; text-decoration-color: #00af00\">0</span>]             │\n",
       "├───────────────────────────────┼───────────────────────────┼─────────────────┼────────────────────────────┤\n",
       "│ flatten_embedding_target      │ (<span style=\"color: #00d7ff; text-decoration-color: #00d7ff\">None</span>, <span style=\"color: #00af00; text-decoration-color: #00af00\">40</span>)                │               <span style=\"color: #00af00; text-decoration-color: #00af00\">0</span> │ embedding_target[<span style=\"color: #00af00; text-decoration-color: #00af00\">0</span>][<span style=\"color: #00af00; text-decoration-color: #00af00\">0</span>]     │\n",
       "│ (<span style=\"color: #0087ff; text-decoration-color: #0087ff\">Flatten</span>)                     │                           │                 │                            │\n",
       "├───────────────────────────────┼───────────────────────────┼─────────────────┼────────────────────────────┤\n",
       "│ dot_product (<span style=\"color: #0087ff; text-decoration-color: #0087ff\">Dot</span>)             │ (<span style=\"color: #00d7ff; text-decoration-color: #00d7ff\">None</span>, <span style=\"color: #00af00; text-decoration-color: #00af00\">21</span>)                │               <span style=\"color: #00af00; text-decoration-color: #00af00\">0</span> │ embedding_context[<span style=\"color: #00af00; text-decoration-color: #00af00\">0</span>][<span style=\"color: #00af00; text-decoration-color: #00af00\">0</span>],   │\n",
       "│                               │                           │                 │ flatten_embedding_target[<span style=\"color: #00af00; text-decoration-color: #00af00\">…</span> │\n",
       "├───────────────────────────────┼───────────────────────────┼─────────────────┼────────────────────────────┤\n",
       "│ activation (<span style=\"color: #0087ff; text-decoration-color: #0087ff\">Activation</span>)       │ (<span style=\"color: #00d7ff; text-decoration-color: #00d7ff\">None</span>, <span style=\"color: #00af00; text-decoration-color: #00af00\">21</span>)                │               <span style=\"color: #00af00; text-decoration-color: #00af00\">0</span> │ dot_product[<span style=\"color: #00af00; text-decoration-color: #00af00\">0</span>][<span style=\"color: #00af00; text-decoration-color: #00af00\">0</span>]          │\n",
       "└───────────────────────────────┴───────────────────────────┴─────────────────┴────────────────────────────┘\n",
       "</pre>\n"
      ],
      "text/plain": [
       "┏━━━━━━━━━━━━━━━━━━━━━━━━━━━━━━━┳━━━━━━━━━━━━━━━━━━━━━━━━━━━┳━━━━━━━━━━━━━━━━━┳━━━━━━━━━━━━━━━━━━━━━━━━━━━━┓\n",
       "┃\u001b[1m \u001b[0m\u001b[1mLayer (type)                 \u001b[0m\u001b[1m \u001b[0m┃\u001b[1m \u001b[0m\u001b[1mOutput Shape             \u001b[0m\u001b[1m \u001b[0m┃\u001b[1m \u001b[0m\u001b[1m        Param #\u001b[0m\u001b[1m \u001b[0m┃\u001b[1m \u001b[0m\u001b[1mConnected to              \u001b[0m\u001b[1m \u001b[0m┃\n",
       "┡━━━━━━━━━━━━━━━━━━━━━━━━━━━━━━━╇━━━━━━━━━━━━━━━━━━━━━━━━━━━╇━━━━━━━━━━━━━━━━━╇━━━━━━━━━━━━━━━━━━━━━━━━━━━━┩\n",
       "│ targets (\u001b[38;5;33mInputLayer\u001b[0m)          │ (\u001b[38;5;45mNone\u001b[0m, \u001b[38;5;34m1\u001b[0m)                 │               \u001b[38;5;34m0\u001b[0m │ -                          │\n",
       "├───────────────────────────────┼───────────────────────────┼─────────────────┼────────────────────────────┤\n",
       "│ contexts (\u001b[38;5;33mInputLayer\u001b[0m)         │ (\u001b[38;5;45mNone\u001b[0m, \u001b[38;5;34m21\u001b[0m)                │               \u001b[38;5;34m0\u001b[0m │ -                          │\n",
       "├───────────────────────────────┼───────────────────────────┼─────────────────┼────────────────────────────┤\n",
       "│ embedding_target (\u001b[38;5;33mEmbedding\u001b[0m)  │ (\u001b[38;5;45mNone\u001b[0m, \u001b[38;5;34m1\u001b[0m, \u001b[38;5;34m40\u001b[0m)             │       \u001b[38;5;34m1,926,280\u001b[0m │ targets[\u001b[38;5;34m0\u001b[0m][\u001b[38;5;34m0\u001b[0m]              │\n",
       "├───────────────────────────────┼───────────────────────────┼─────────────────┼────────────────────────────┤\n",
       "│ embedding_context (\u001b[38;5;33mEmbedding\u001b[0m) │ (\u001b[38;5;45mNone\u001b[0m, \u001b[38;5;34m21\u001b[0m, \u001b[38;5;34m40\u001b[0m)            │       \u001b[38;5;34m1,926,280\u001b[0m │ contexts[\u001b[38;5;34m0\u001b[0m][\u001b[38;5;34m0\u001b[0m]             │\n",
       "├───────────────────────────────┼───────────────────────────┼─────────────────┼────────────────────────────┤\n",
       "│ flatten_embedding_target      │ (\u001b[38;5;45mNone\u001b[0m, \u001b[38;5;34m40\u001b[0m)                │               \u001b[38;5;34m0\u001b[0m │ embedding_target[\u001b[38;5;34m0\u001b[0m][\u001b[38;5;34m0\u001b[0m]     │\n",
       "│ (\u001b[38;5;33mFlatten\u001b[0m)                     │                           │                 │                            │\n",
       "├───────────────────────────────┼───────────────────────────┼─────────────────┼────────────────────────────┤\n",
       "│ dot_product (\u001b[38;5;33mDot\u001b[0m)             │ (\u001b[38;5;45mNone\u001b[0m, \u001b[38;5;34m21\u001b[0m)                │               \u001b[38;5;34m0\u001b[0m │ embedding_context[\u001b[38;5;34m0\u001b[0m][\u001b[38;5;34m0\u001b[0m],   │\n",
       "│                               │                           │                 │ flatten_embedding_target[\u001b[38;5;34m…\u001b[0m │\n",
       "├───────────────────────────────┼───────────────────────────┼─────────────────┼────────────────────────────┤\n",
       "│ activation (\u001b[38;5;33mActivation\u001b[0m)       │ (\u001b[38;5;45mNone\u001b[0m, \u001b[38;5;34m21\u001b[0m)                │               \u001b[38;5;34m0\u001b[0m │ dot_product[\u001b[38;5;34m0\u001b[0m][\u001b[38;5;34m0\u001b[0m]          │\n",
       "└───────────────────────────────┴───────────────────────────┴─────────────────┴────────────────────────────┘\n"
      ]
     },
     "metadata": {},
     "output_type": "display_data"
    },
    {
     "data": {
      "text/html": [
       "<pre style=\"white-space:pre;overflow-x:auto;line-height:normal;font-family:Menlo,'DejaVu Sans Mono',consolas,'Courier New',monospace\"><span style=\"font-weight: bold\"> Total params: </span><span style=\"color: #00af00; text-decoration-color: #00af00\">3,852,560</span> (14.70 MB)\n",
       "</pre>\n"
      ],
      "text/plain": [
       "\u001b[1m Total params: \u001b[0m\u001b[38;5;34m3,852,560\u001b[0m (14.70 MB)\n"
      ]
     },
     "metadata": {},
     "output_type": "display_data"
    },
    {
     "data": {
      "text/html": [
       "<pre style=\"white-space:pre;overflow-x:auto;line-height:normal;font-family:Menlo,'DejaVu Sans Mono',consolas,'Courier New',monospace\"><span style=\"font-weight: bold\"> Trainable params: </span><span style=\"color: #00af00; text-decoration-color: #00af00\">3,852,560</span> (14.70 MB)\n",
       "</pre>\n"
      ],
      "text/plain": [
       "\u001b[1m Trainable params: \u001b[0m\u001b[38;5;34m3,852,560\u001b[0m (14.70 MB)\n"
      ]
     },
     "metadata": {},
     "output_type": "display_data"
    },
    {
     "data": {
      "text/html": [
       "<pre style=\"white-space:pre;overflow-x:auto;line-height:normal;font-family:Menlo,'DejaVu Sans Mono',consolas,'Courier New',monospace\"><span style=\"font-weight: bold\"> Non-trainable params: </span><span style=\"color: #00af00; text-decoration-color: #00af00\">0</span> (0.00 B)\n",
       "</pre>\n"
      ],
      "text/plain": [
       "\u001b[1m Non-trainable params: \u001b[0m\u001b[38;5;34m0\u001b[0m (0.00 B)\n"
      ]
     },
     "metadata": {},
     "output_type": "display_data"
    }
   ],
   "source": [
    "embedding_dim = 40\n",
    "\n",
    "# define inputs\n",
    "input_target = Input(shape=(1,), name='targets')\n",
    "input_context = Input(shape=(number_of_negative_samples+1,), name='contexts')\n",
    "\n",
    "# create embedding layers\n",
    "embedding_target = Embedding(input_dim=vocabulary_size, output_dim=embedding_dim, name='embedding_target')(input_target)\n",
    "embedding_context = Embedding(input_dim=vocabulary_size, output_dim=embedding_dim, name='embedding_context')(input_context)\n",
    "\n",
    "# reshape target embeddings to match context embedding's dimensions\n",
    "embedding_target_flatten = Flatten(name='flatten_embedding_target')(embedding_target)\n",
    "\n",
    "# compute dot product between target and each context embedding\n",
    "dot_product = Dot(axes=-1, name='dot_product')([embedding_context, embedding_target_flatten])\n",
    "\n",
    "# output layer to classify the context words\n",
    "output = Activation('softmax', name='activation')(dot_product)\n",
    "\n",
    "# define the model\n",
    "model = Model(inputs=[input_target, input_context], outputs=output, name='scip_gram_word2vec')\n",
    "model.summary()"
   ]
  },
  {
   "cell_type": "markdown",
   "id": "f1de30c9-ba08-47aa-8cfb-bd05652d7aa8",
   "metadata": {},
   "source": [
    "### Training"
   ]
  },
  {
   "cell_type": "code",
   "execution_count": 12,
   "id": "f42ff0de-5502-45f7-b066-525de3ba1f46",
   "metadata": {},
   "outputs": [
    {
     "name": "stdout",
     "output_type": "stream",
     "text": [
      "Epoch 1/15\n",
      "\u001b[1m4530/4530\u001b[0m \u001b[32m━━━━━━━━━━━━━━━━━━━━\u001b[0m\u001b[37m\u001b[0m \u001b[1m165s\u001b[0m 36ms/step - accuracy: 0.2521 - loss: 2.6292\n",
      "Epoch 2/15\n",
      "\u001b[1m4530/4530\u001b[0m \u001b[32m━━━━━━━━━━━━━━━━━━━━\u001b[0m\u001b[37m\u001b[0m \u001b[1m162s\u001b[0m 36ms/step - accuracy: 0.3677 - loss: 2.1654\n",
      "Epoch 3/15\n",
      "\u001b[1m4530/4530\u001b[0m \u001b[32m━━━━━━━━━━━━━━━━━━━━\u001b[0m\u001b[37m\u001b[0m \u001b[1m161s\u001b[0m 35ms/step - accuracy: 0.3933 - loss: 2.0622\n",
      "Epoch 4/15\n",
      "\u001b[1m4530/4530\u001b[0m \u001b[32m━━━━━━━━━━━━━━━━━━━━\u001b[0m\u001b[37m\u001b[0m \u001b[1m161s\u001b[0m 36ms/step - accuracy: 0.4058 - loss: 2.0114\n",
      "Epoch 5/15\n",
      "\u001b[1m4530/4530\u001b[0m \u001b[32m━━━━━━━━━━━━━━━━━━━━\u001b[0m\u001b[37m\u001b[0m \u001b[1m162s\u001b[0m 36ms/step - accuracy: 0.4134 - loss: 1.9798\n",
      "Epoch 6/15\n",
      "\u001b[1m4530/4530\u001b[0m \u001b[32m━━━━━━━━━━━━━━━━━━━━\u001b[0m\u001b[37m\u001b[0m \u001b[1m163s\u001b[0m 36ms/step - accuracy: 0.4183 - loss: 1.9579\n",
      "Epoch 7/15\n",
      "\u001b[1m4530/4530\u001b[0m \u001b[32m━━━━━━━━━━━━━━━━━━━━\u001b[0m\u001b[37m\u001b[0m \u001b[1m162s\u001b[0m 36ms/step - accuracy: 0.4226 - loss: 1.9416\n",
      "Epoch 8/15\n",
      "\u001b[1m4530/4530\u001b[0m \u001b[32m━━━━━━━━━━━━━━━━━━━━\u001b[0m\u001b[37m\u001b[0m \u001b[1m163s\u001b[0m 36ms/step - accuracy: 0.4260 - loss: 1.9270\n",
      "Epoch 9/15\n",
      "\u001b[1m4530/4530\u001b[0m \u001b[32m━━━━━━━━━━━━━━━━━━━━\u001b[0m\u001b[37m\u001b[0m \u001b[1m163s\u001b[0m 36ms/step - accuracy: 0.4286 - loss: 1.9171\n",
      "Epoch 10/15\n",
      "\u001b[1m4530/4530\u001b[0m \u001b[32m━━━━━━━━━━━━━━━━━━━━\u001b[0m\u001b[37m\u001b[0m \u001b[1m164s\u001b[0m 36ms/step - accuracy: 0.4309 - loss: 1.9073\n",
      "Epoch 11/15\n",
      "\u001b[1m4530/4530\u001b[0m \u001b[32m━━━━━━━━━━━━━━━━━━━━\u001b[0m\u001b[37m\u001b[0m \u001b[1m163s\u001b[0m 36ms/step - accuracy: 0.4325 - loss: 1.9002\n",
      "Epoch 12/15\n",
      "\u001b[1m4530/4530\u001b[0m \u001b[32m━━━━━━━━━━━━━━━━━━━━\u001b[0m\u001b[37m\u001b[0m \u001b[1m164s\u001b[0m 36ms/step - accuracy: 0.4343 - loss: 1.8929\n",
      "Epoch 13/15\n",
      "\u001b[1m4530/4530\u001b[0m \u001b[32m━━━━━━━━━━━━━━━━━━━━\u001b[0m\u001b[37m\u001b[0m \u001b[1m165s\u001b[0m 36ms/step - accuracy: 0.4357 - loss: 1.8871\n",
      "Epoch 14/15\n",
      "\u001b[1m4530/4530\u001b[0m \u001b[32m━━━━━━━━━━━━━━━━━━━━\u001b[0m\u001b[37m\u001b[0m \u001b[1m164s\u001b[0m 36ms/step - accuracy: 0.4370 - loss: 1.8818\n",
      "Epoch 15/15\n",
      "\u001b[1m4530/4530\u001b[0m \u001b[32m━━━━━━━━━━━━━━━━━━━━\u001b[0m\u001b[37m\u001b[0m \u001b[1m165s\u001b[0m 36ms/step - accuracy: 0.4382 - loss: 1.8773\n"
     ]
    }
   ],
   "source": [
    "model.compile(optimizer='adam', loss='categorical_crossentropy', metrics=['accuracy'])\n",
    "\n",
    "tensorboard_callback = tf.keras.callbacks.TensorBoard(log_dir='logs')\n",
    "\n",
    "# checkpoint a model. here we save the best model relative to validation loss\n",
    "checkpoint_cb = tf.keras.callbacks.ModelCheckpoint(\n",
    "    filepath='word2vec_model.keras',\n",
    "    monitor='loss',\n",
    "    save_best_only=True\n",
    ")\n",
    "\n",
    "# restore_best_weights - Whether to restore model weights from\n",
    "# the epoch with the best value of the monitored quantity.\n",
    "early_stopping_cb = tf.keras.callbacks.EarlyStopping(\n",
    "    patience=3,\n",
    "    restore_best_weights=True,\n",
    "    monitor='accuracy'\n",
    ")\n",
    "\n",
    "history = model.fit(\n",
    "    x=(targets, contexts),\n",
    "    y=labels,\n",
    "    epochs=15,\n",
    "    callbacks=[tensorboard_callback, checkpoint_cb, early_stopping_cb],\n",
    "    batch_size=2048\n",
    ")\n",
    "\n",
    "all_embeddings = model.get_layer('embedding_target').get_weights()[0]\n",
    "model.save(f'word2vec_model_w{window_size}_ns{number_of_negative_samples}_tl{text_length}.keras', include_optimizer=True)"
   ]
  },
  {
   "cell_type": "markdown",
   "id": "084dd0b9-d00b-431f-8c97-7284901421f6",
   "metadata": {},
   "source": [
    "### Save embeddings "
   ]
  },
  {
   "cell_type": "code",
   "execution_count": 13,
   "id": "46778d77-bc61-4c4f-8d68-dc39650a2f23",
   "metadata": {},
   "outputs": [],
   "source": [
    "def save_embeddings(model: tf.keras.Model, vocabulary_list: List[str], path: str):\n",
    "    ''' \n",
    "    Save the embeddings \n",
    "    param: model - the trained tf model\n",
    "           vocabulary_list - list of words\n",
    "           path - the path to save the embeddings map\n",
    "    '''\n",
    "    all_embeddings = model.get_layer('embedding_target').get_weights()[0]\n",
    "\n",
    "    # prepering the data to the saving\n",
    "    embeddings = []\n",
    "    for index, word in enumerate(vocabulary_list):\n",
    "        if index == 0:\n",
    "            continue  # skip 0, it's padding.\n",
    "        vec = all_embeddings[index]\n",
    "        embeddings.append([word] + list(vec))\n",
    "    \n",
    "    df = pd.DataFrame(embeddings, columns=['word'] + [f'dim_{i}' for i in range(all_embeddings.shape[1])]) # creating the DataFrame\n",
    "    table = pa.Table.from_pandas(df) # convert DataFrame to Arrow-Table\n",
    "    pa.parquet.write_table(table, path + 'embeddings.parquet') # write the table to a Parquet file\n",
    "\n",
    "save_embeddings(model, vocabulary_list, f'word2vec_model_w{window_size}_ns{number_of_negative_samples}_tl{text_length}_')"
   ]
  },
  {
   "cell_type": "markdown",
   "id": "656d9714-fcd7-414b-a459-19c48846c1a4",
   "metadata": {},
   "source": [
    "## Load embeddings (you can start from here)"
   ]
  },
  {
   "cell_type": "markdown",
   "id": "b5143721-b156-4a8c-9ade-b5cdf78f0f67",
   "metadata": {},
   "source": [
    "If you have the embeddings as parquet file, you can run the program from here.\n",
    "\n",
    "Note: make sure you have plotly installed (for the 3D plot) - pip install plotly"
   ]
  },
  {
   "cell_type": "code",
   "execution_count": 12,
   "id": "15e10af9-1d83-4403-b49e-1960b3611284",
   "metadata": {},
   "outputs": [],
   "source": [
    "import pandas as pd\n",
    "import pyarrow as pa\n",
    "import numpy as np\n",
    "import timeit\n",
    "import plotly.graph_objs as go\n",
    "import plotly.io as pio\n",
    "from typing import List, Dict, Tuple\n",
    "from mpl_toolkits.mplot3d import Axes3D\n",
    "from sklearn.decomposition import PCA\n",
    "\n",
    "window_size = 2\n",
    "number_of_negative_samples = 20\n",
    "text_length = 120\n",
    "\n",
    "def load_embeddings(path: str):\n",
    "    '''\n",
    "    Load embeddings from a Parquet file\n",
    "    param: path - the path to the embeddings map\n",
    "    return: vocabulary_list - list of tokens\n",
    "            weights - numpy array of weights\n",
    "    '''\n",
    "    # read the Parquet file into a DataFrame\n",
    "    df = pd.read_parquet(path + 'embeddings.parquet')\n",
    "\n",
    "    # extract the vocabulary and weights\n",
    "    vocabulary_list = df['word'].tolist()\n",
    "    all_embeddings = df.drop(columns='word').values\n",
    "    return vocabulary_list, all_embeddings\n",
    "\n",
    "vocabulary_list, all_embeddings = load_embeddings(f'word2vec_model_w{window_size}_ns{number_of_negative_samples}_tl{text_length}_')\n",
    "vocabulary = {word: index for index, word in enumerate(vocabulary_list)}\n",
    "reverst_vocabulary = {index: word for index, word in enumerate(vocabulary_list)}"
   ]
  },
  {
   "cell_type": "markdown",
   "id": "8fd18f62-3ec2-4707-98f5-8075e6ec8945",
   "metadata": {},
   "source": [
    "### Find Most similar"
   ]
  },
  {
   "cell_type": "code",
   "execution_count": 13,
   "id": "1d694196-a6d8-491f-aa48-ae566911c97c",
   "metadata": {},
   "outputs": [],
   "source": [
    "def cosine_similarity(a: np.array, b: np.array) -> float:\n",
    "    '''\n",
    "    Calculate the cosine similarity between two vectors\n",
    "    param: a - first vector\n",
    "           b - second vector\n",
    "    return: the similarity\n",
    "    '''\n",
    "    dot_product = np.dot(a, b)\n",
    "    norm_a = np.linalg.norm(a)\n",
    "    norm_b = np.linalg.norm(b)\n",
    "    return dot_product / (norm_a * norm_b)"
   ]
  },
  {
   "cell_type": "code",
   "execution_count": 14,
   "id": "466b69bd-718c-41e6-b9a2-3ff8a9b849bb",
   "metadata": {},
   "outputs": [],
   "source": [
    "def find_most_similar(word: str, k: int = 5) -> List[Tuple[str, float]]:\n",
    "    '''\n",
    "    Find the k most similar words to 'word'\n",
    "    param: word - the word for which to find the most similar words\n",
    "           k - the number of most similar words to return\n",
    "    return: a list of tuples where each tuple contains a word and its cosine similarity to the input word\n",
    "    '''\n",
    "    # check if word is in vocabulary\n",
    "    if word not in vocabulary:\n",
    "        raise ValueError(f\"The word '{word}' is not in the vocabulary.\")\n",
    "    \n",
    "    # get embedding for the word and all the other words in the vocabulary\n",
    "    word_idx = vocabulary[word]\n",
    "    emb_word = all_embeddings[word_idx]\n",
    "    \n",
    "    # compute cosine similarities between the word embedding and all other embeddings\n",
    "    similarities = np.array([cosine_similarity(emb_word, other) for other in all_embeddings])\n",
    "    nearest_indices = np.argpartition(-similarities, k + 1)[:k + 1] # get indices of the k+1 highest similarities\n",
    "    nearest_indices = nearest_indices[nearest_indices != word_idx] # filter out the word\n",
    "    \n",
    "    # sort the nearest neighbors by their similarities\n",
    "    nearest_indices = nearest_indices[np.argsort(-similarities[nearest_indices])]\n",
    "    similar_words = [(reverst_vocabulary[idx], round(similarities[idx], 3)) for idx in nearest_indices[:k]]\n",
    "    \n",
    "    return similar_words"
   ]
  },
  {
   "cell_type": "markdown",
   "id": "0c649748-9ed8-4df4-8797-1a4820ebe53b",
   "metadata": {},
   "source": [
    "#### Timing the run of 'find_most_similar'"
   ]
  },
  {
   "cell_type": "code",
   "execution_count": 15,
   "id": "4c3c86f2-677c-472a-b4ee-4064de2a69e6",
   "metadata": {},
   "outputs": [
    {
     "name": "stdout",
     "output_type": "stream",
     "text": [
      "Average time over 10 runs: 0.67 seconds\n"
     ]
    }
   ],
   "source": [
    "def time_test():\n",
    "    '''\n",
    "    Return the find_most_similar with the word 'sofa'\n",
    "    '''\n",
    "    return find_most_similar('sofa')\n",
    "\n",
    "num_runs = 10\n",
    "time = timeit.timeit(time_test, number=num_runs) # timing the runing in 'num_runs' times\n",
    "print(f\"Average time over {num_runs} runs: {time / num_runs :.2f} seconds\")"
   ]
  },
  {
   "cell_type": "markdown",
   "id": "7b8c4bdd-4817-48c7-beef-d729f352bcfd",
   "metadata": {},
   "source": [
    "#### Runing 'find_most_similar' with some inputs"
   ]
  },
  {
   "cell_type": "code",
   "execution_count": 16,
   "id": "cc87f722-3b66-4b96-b170-0319ff83cb1f",
   "metadata": {},
   "outputs": [
    {
     "name": "stdout",
     "output_type": "stream",
     "text": [
      "   Input Word   Similar Word  Score\n",
      "0           5              4  0.912\n",
      "1           5              3  0.910\n",
      "2           5           five  0.906\n",
      "3           5             10  0.880\n",
      "4           5              6  0.879\n",
      "5    children           kids  0.919\n",
      "6    children      teenagers  0.837\n",
      "7    children           sons  0.827\n",
      "8    children  grandchildren  0.824\n",
      "9    children          adult  0.788\n",
      "10  fantastic       terrific  0.941\n",
      "11  fantastic         superb  0.927\n",
      "12  fantastic        amazing  0.927\n",
      "13  fantastic          great  0.922\n",
      "14  fantastic      brilliant  0.921\n"
     ]
    }
   ],
   "source": [
    "words = ['5', 'children', 'fantastic']\n",
    "results = []\n",
    "\n",
    "# through each word get the most similar words\n",
    "for word in words:\n",
    "    similar_words = find_most_similar(word)\n",
    "    for sim_word, score in similar_words:\n",
    "        results.append({'Input Word': word, 'Similar Word': sim_word, 'Score': score}) \n",
    "\n",
    "# dataFrame from the results\n",
    "result_df = pd.DataFrame(results)\n",
    "print(result_df)"
   ]
  },
  {
   "cell_type": "markdown",
   "id": "aa43790f-8dce-4aea-823d-811485bff72e",
   "metadata": {},
   "source": [
    "### Dimentionality Reduction \n",
    "\n",
    "visualize some clusters with some subsets of words to show the labels for, using PCA"
   ]
  },
  {
   "cell_type": "code",
   "execution_count": 17,
   "id": "f2647a4b-f7cf-4a1e-93c2-1ea2a2e74800",
   "metadata": {},
   "outputs": [],
   "source": [
    "# subsets of words\n",
    "family = ['nephew', 'son', 'brother', 'grandmother', 'sister', 'grandma', 'daughter', 'brother', 'mom', 'dad',\n",
    "          'father', 'aunt', 'mother', 'cousin', 'niece', 'grandson', 'dad', 'cousin', 'stepdaughter']\n",
    "bedware = ['duvet', 'comforter', 'mattress', 'duvets', 'pillowtop', 'sheet', 'sheets', 'pillows', 'quilts',\n",
    "           'blankets', 'bedspread', 'bedding', 'bed', 'linen', 'beds', 'linens', 'bedspreads']\n",
    "numbers = ['3', '2', '4', '5', '6', '7', '8', '9', '10', '18', '20', '25',\n",
    "           '27', '30', '90', 'two', 'three', 'four', 'six', 'seven', 'eight', 'nine', 'ten', 'twenty']\n",
    "positive_discribe = ['amazing', 'fantastic', 'fabulous', 'superb', 'marvelous', 'incredible', 'phenomenal', 'exceptional', \n",
    "                    'awsome', 'remarkable', 'excellent', 'great', 'good', 'outstanding', 'terrific',\n",
    "                    'brilliant', 'extraordinary', 'wonderful', 'unbelievable', 'tremendous', 'perfect']\n",
    "places = ['florida', 'canada', 'scotland', 'oregon', 'mexico', 'ireland', 'spain', 'california', 'hawaii', 'pittsburgh', 'sydney',\n",
    "         'australia', 'england', 'germany', 'alaska', 'sweden', 'norway', 'atlanta', 'boston', 'montreal', 'toronto', 'peru']\n",
    "word_list = family + bedware + numbers + positive_discribe + places"
   ]
  },
  {
   "cell_type": "code",
   "execution_count": 18,
   "id": "6cf194e2-78e5-41ee-af40-f7d846786c84",
   "metadata": {},
   "outputs": [
    {
     "data": {
      "application/vnd.plotly.v1+json": {
       "config": {
        "plotlyServerURL": "https://plot.ly"
       },
       "data": [
        {
         "marker": {
          "color": "red",
          "size": 5
         },
         "mode": "markers+text",
         "text": [
          "nephew",
          "son",
          "brother",
          "grandmother",
          "sister",
          "grandma",
          "daughter",
          "brother",
          "mom",
          "dad",
          "father",
          "aunt",
          "mother",
          "cousin",
          "niece",
          "grandson",
          "dad",
          "cousin",
          "stepdaughter",
          "duvet",
          "comforter",
          "mattress",
          "duvets",
          "pillowtop",
          "sheet",
          "sheets",
          "pillows",
          "quilts",
          "blankets",
          "bedspread",
          "bedding",
          "bed",
          "linen",
          "beds",
          "linens",
          "bedspreads",
          "3",
          "2",
          "4",
          "5",
          "6",
          "7",
          "8",
          "9",
          "10",
          "18",
          "20",
          "25",
          "27",
          "30",
          "90",
          "two",
          "three",
          "four",
          "six",
          "seven",
          "eight",
          "nine",
          "ten",
          "twenty",
          "amazing",
          "fantastic",
          "fabulous",
          "superb",
          "marvelous",
          "incredible",
          "phenomenal",
          "exceptional",
          "awsome",
          "remarkable",
          "excellent",
          "great",
          "good",
          "outstanding",
          "terrific",
          "brilliant",
          "extraordinary",
          "wonderful",
          "unbelievable",
          "tremendous",
          "perfect",
          "florida",
          "canada",
          "scotland",
          "oregon",
          "mexico",
          "ireland",
          "spain",
          "california",
          "hawaii",
          "pittsburgh",
          "sydney",
          "australia",
          "england",
          "germany",
          "alaska",
          "sweden",
          "norway",
          "atlanta",
          "boston",
          "montreal",
          "toronto",
          "peru"
         ],
         "textfont": {
          "color": "black",
          "size": 10
         },
         "textposition": "top center",
         "type": "scatter3d",
         "x": [
          -1.332999348640442,
          -0.6568204164505005,
          -1.1745953559875488,
          -0.7389004230499268,
          -0.9234541058540344,
          -0.8909767866134644,
          -0.8550122380256653,
          -1.1745957136154175,
          -0.6921595335006714,
          -0.8348504900932312,
          -0.9719022512435913,
          -1.2394660711288452,
          -0.9107840061187744,
          -0.9309284687042236,
          -1.1029433012008667,
          -0.8996333479881287,
          -0.8348501324653625,
          -0.9309285879135132,
          -1.2026104927062988,
          2.1020350456237793,
          2.045609474182129,
          1.6368589401245117,
          2.275939702987671,
          2.250817060470581,
          1.8078616857528687,
          1.6859210729599,
          2.0171077251434326,
          2.043811082839966,
          1.8833446502685547,
          1.1360927820205688,
          1.742916226387024,
          1.5065160989761353,
          1.8478144407272339,
          1.5978204011917114,
          1.7869247198104858,
          1.3298704624176025,
          0.0786307230591774,
          0.3032713830471039,
          -0.04089654982089996,
          -0.01956505887210369,
          -0.2826365530490875,
          -0.3215603232383728,
          -0.2643229365348816,
          -0.5028402209281921,
          -0.0187570508569479,
          -0.35045909881591797,
          -0.04725237563252449,
          -0.09138017892837524,
          -0.5451363325119019,
          -0.17536184191703796,
          0.13305512070655823,
          0.3099973499774933,
          0.007310768123716116,
          -0.1367313116788864,
          -0.11647452414035797,
          -0.3913896679878235,
          -0.17749445140361786,
          -0.3890289068222046,
          -0.11341477930545807,
          0.0910072922706604,
          0.8955413103103638,
          0.8991818428039551,
          0.7461866736412048,
          0.9236865639686584,
          0.8077925443649292,
          1.0678279399871826,
          1.0017595291137695,
          0.6330487728118896,
          0.978031575679779,
          0.7352515459060669,
          0.8959940671920776,
          0.9389790892601013,
          1.092514991760254,
          0.6960434913635254,
          0.9278352856636047,
          0.8938543200492859,
          0.914723813533783,
          0.7249605655670166,
          0.8858813643455505,
          0.8612021207809448,
          0.7122146487236023,
          -1.125755786895752,
          -1.3674507141113281,
          -1.1508795022964478,
          -1.5206207036972046,
          -1.276914119720459,
          -0.8783565759658813,
          -1.1787900924682617,
          -1.0526366233825684,
          -1.2780718803405762,
          -1.7807244062423706,
          -1.3453603982925415,
          -1.178529977798462,
          -1.0882140398025513,
          -1.5038905143737793,
          -1.0425713062286377,
          -1.0866409540176392,
          -1.1155869960784912,
          -1.6382310390472412,
          -1.20498526096344,
          -1.5112993717193604,
          -1.2111477851867676,
          -1.0332766771316528
         ],
         "y": [
          1.3370252847671509,
          1.0910683870315552,
          1.235357403755188,
          1.3629390001296997,
          1.032429575920105,
          0.8291390538215637,
          1.2357254028320312,
          1.235357403755188,
          1.2588365077972412,
          1.1462087631225586,
          1.0570011138916016,
          1.8383009433746338,
          1.0177983045578003,
          1.5025593042373657,
          1.4837656021118164,
          0.750186026096344,
          1.146208643913269,
          1.5025594234466553,
          1.977705717086792,
          1.4668747186660767,
          1.3264154195785522,
          1.05794095993042,
          1.0792324542999268,
          1.5064518451690674,
          0.9913725852966309,
          1.2711037397384644,
          0.7127555012702942,
          1.7842204570770264,
          0.7348266243934631,
          1.5726780891418457,
          0.7737395167350769,
          0.6492424011230469,
          0.9560953378677368,
          0.3809436857700348,
          0.8473389148712158,
          1.3738428354263306,
          -0.9729177951812744,
          -0.8514540791511536,
          -0.9349453449249268,
          -1.0555144548416138,
          -0.971792459487915,
          -1.0964758396148682,
          -0.9557737112045288,
          -0.5553848743438721,
          -0.891662061214447,
          -0.34987911581993103,
          -0.7192057371139526,
          -0.7987641096115112,
          -0.5459271669387817,
          -0.592471718788147,
          -0.6249525547027588,
          -0.8167425990104675,
          -1.0398157835006714,
          -0.9898187518119812,
          -0.9782066941261292,
          -0.8650611639022827,
          -1.1433875560760498,
          -0.6602227091789246,
          -0.9387509226799011,
          -0.6076707243919373,
          -0.8597656488418579,
          -0.9600428938865662,
          -0.8663994073867798,
          -1.0389504432678223,
          -1.0225168466567993,
          -0.9905615448951721,
          -0.7067203521728516,
          -0.7937939763069153,
          -0.6639692187309265,
          -1.0836377143859863,
          -1.0013610124588013,
          -0.9825897216796875,
          -0.8070791363716125,
          -0.9123062491416931,
          -1.1084345579147339,
          -1.0335972309112549,
          -0.7804072499275208,
          -0.9497022032737732,
          -0.8328887224197388,
          -0.8164315819740295,
          -0.8573046922683716,
          -0.46950241923332214,
          -0.22082556784152985,
          -0.13611222803592682,
          -0.15154632925987244,
          -0.3572559356689453,
          -0.10609538853168488,
          0.05287487804889679,
          -0.06452479213476181,
          0.10835211724042892,
          0.26306748390197754,
          0.0076328543946146965,
          -0.035371653735637665,
          0.02366681955754757,
          -0.2442578822374344,
          -0.018557341769337654,
          -0.052525393664836884,
          -0.2825357913970947,
          -0.281218558549881,
          -0.2887178063392639,
          -0.3988392651081085,
          -0.4058986306190491,
          -0.44180673360824585
         ],
         "z": [
          -0.1212957352399826,
          0.587469220161438,
          0.28722646832466125,
          -0.17628991603851318,
          -0.22066761553287506,
          -0.1006731167435646,
          0.4205953776836395,
          0.2872259020805359,
          0.11755136400461197,
          -0.1462646722793579,
          0.08893012255430222,
          -0.22391019761562347,
          0.3490228056907654,
          0.02983580157160759,
          0.19055767357349396,
          0.4160512685775757,
          -0.14626480638980865,
          0.029835868626832962,
          0.21599474549293518,
          0.42140060663223267,
          -0.021073393523693085,
          -0.01911945641040802,
          0.14075683057308197,
          -0.28867945075035095,
          0.3756854236125946,
          0.2107429951429367,
          -0.0680321455001831,
          0.3543674647808075,
          0.5308593511581421,
          -0.022090109065175056,
          -0.02351381815969944,
          -0.08331909775733948,
          0.26849988102912903,
          -0.18203653395175934,
          0.008554949425160885,
          0.2882004976272583,
          1.0991127490997314,
          1.0167590379714966,
          1.0228437185287476,
          1.1363215446472168,
          1.217955231666565,
          1.2336276769638062,
          1.2906155586242676,
          1.3790287971496582,
          1.4287281036376953,
          1.2241870164871216,
          1.4330865144729614,
          1.4422671794891357,
          1.1461842060089111,
          1.4268620014190674,
          1.2079741954803467,
          0.6799049377441406,
          0.8550059199333191,
          0.7729476690292358,
          1.1028835773468018,
          1.2482558488845825,
          1.0358103513717651,
          1.344796895980835,
          1.2763688564300537,
          1.3024570941925049,
          -0.9367756843566895,
          -0.8451389074325562,
          -0.9928998351097107,
          -0.950383186340332,
          -0.8285027742385864,
          -0.9215649366378784,
          -0.8525015115737915,
          -1.0891869068145752,
          -0.7536741495132446,
          -1.0275863409042358,
          -0.802394688129425,
          -0.9406419396400452,
          -0.7446972131729126,
          -1.0331140756607056,
          -0.9700818061828613,
          -0.7793477773666382,
          -0.6926590800285339,
          -0.9290318489074707,
          -0.5729711651802063,
          -0.7562720775604248,
          -0.5316972732543945,
          -0.9011644721031189,
          -0.33460354804992676,
          -0.35013923048973083,
          -0.49489784240722656,
          -0.7547860145568848,
          -0.8099489212036133,
          -0.8813153505325317,
          -0.7430071830749512,
          -0.5421923398971558,
          -0.8356394171714783,
          -0.4373042583465576,
          -0.7560672163963318,
          -0.3262980580329895,
          -1.2763781547546387,
          -0.6709151268005371,
          -0.8551965355873108,
          -0.24961265921592712,
          -0.48925110697746277,
          -0.6225935220718384,
          -0.4627459943294525,
          -0.576515793800354,
          -0.7784361839294434
         ]
        }
       ],
       "layout": {
        "height": 800,
        "scene": {
         "aspectmode": "auto",
         "aspectratio": {
          "x": 1.2470760318413623,
          "y": 0.9594682993957409,
          "z": 0.8357501001127385
         },
         "xaxis": {
          "title": {
           "text": "X"
          },
          "type": "linear"
         },
         "yaxis": {
          "title": {
           "text": "Y"
          },
          "type": "linear"
         },
         "zaxis": {
          "title": {
           "text": "Z"
          },
          "type": "linear"
         }
        },
        "template": {
         "data": {
          "bar": [
           {
            "error_x": {
             "color": "#2a3f5f"
            },
            "error_y": {
             "color": "#2a3f5f"
            },
            "marker": {
             "line": {
              "color": "#E5ECF6",
              "width": 0.5
             },
             "pattern": {
              "fillmode": "overlay",
              "size": 10,
              "solidity": 0.2
             }
            },
            "type": "bar"
           }
          ],
          "barpolar": [
           {
            "marker": {
             "line": {
              "color": "#E5ECF6",
              "width": 0.5
             },
             "pattern": {
              "fillmode": "overlay",
              "size": 10,
              "solidity": 0.2
             }
            },
            "type": "barpolar"
           }
          ],
          "carpet": [
           {
            "aaxis": {
             "endlinecolor": "#2a3f5f",
             "gridcolor": "white",
             "linecolor": "white",
             "minorgridcolor": "white",
             "startlinecolor": "#2a3f5f"
            },
            "baxis": {
             "endlinecolor": "#2a3f5f",
             "gridcolor": "white",
             "linecolor": "white",
             "minorgridcolor": "white",
             "startlinecolor": "#2a3f5f"
            },
            "type": "carpet"
           }
          ],
          "choropleth": [
           {
            "colorbar": {
             "outlinewidth": 0,
             "ticks": ""
            },
            "type": "choropleth"
           }
          ],
          "contour": [
           {
            "colorbar": {
             "outlinewidth": 0,
             "ticks": ""
            },
            "colorscale": [
             [
              0,
              "#0d0887"
             ],
             [
              0.1111111111111111,
              "#46039f"
             ],
             [
              0.2222222222222222,
              "#7201a8"
             ],
             [
              0.3333333333333333,
              "#9c179e"
             ],
             [
              0.4444444444444444,
              "#bd3786"
             ],
             [
              0.5555555555555556,
              "#d8576b"
             ],
             [
              0.6666666666666666,
              "#ed7953"
             ],
             [
              0.7777777777777778,
              "#fb9f3a"
             ],
             [
              0.8888888888888888,
              "#fdca26"
             ],
             [
              1,
              "#f0f921"
             ]
            ],
            "type": "contour"
           }
          ],
          "contourcarpet": [
           {
            "colorbar": {
             "outlinewidth": 0,
             "ticks": ""
            },
            "type": "contourcarpet"
           }
          ],
          "heatmap": [
           {
            "colorbar": {
             "outlinewidth": 0,
             "ticks": ""
            },
            "colorscale": [
             [
              0,
              "#0d0887"
             ],
             [
              0.1111111111111111,
              "#46039f"
             ],
             [
              0.2222222222222222,
              "#7201a8"
             ],
             [
              0.3333333333333333,
              "#9c179e"
             ],
             [
              0.4444444444444444,
              "#bd3786"
             ],
             [
              0.5555555555555556,
              "#d8576b"
             ],
             [
              0.6666666666666666,
              "#ed7953"
             ],
             [
              0.7777777777777778,
              "#fb9f3a"
             ],
             [
              0.8888888888888888,
              "#fdca26"
             ],
             [
              1,
              "#f0f921"
             ]
            ],
            "type": "heatmap"
           }
          ],
          "heatmapgl": [
           {
            "colorbar": {
             "outlinewidth": 0,
             "ticks": ""
            },
            "colorscale": [
             [
              0,
              "#0d0887"
             ],
             [
              0.1111111111111111,
              "#46039f"
             ],
             [
              0.2222222222222222,
              "#7201a8"
             ],
             [
              0.3333333333333333,
              "#9c179e"
             ],
             [
              0.4444444444444444,
              "#bd3786"
             ],
             [
              0.5555555555555556,
              "#d8576b"
             ],
             [
              0.6666666666666666,
              "#ed7953"
             ],
             [
              0.7777777777777778,
              "#fb9f3a"
             ],
             [
              0.8888888888888888,
              "#fdca26"
             ],
             [
              1,
              "#f0f921"
             ]
            ],
            "type": "heatmapgl"
           }
          ],
          "histogram": [
           {
            "marker": {
             "pattern": {
              "fillmode": "overlay",
              "size": 10,
              "solidity": 0.2
             }
            },
            "type": "histogram"
           }
          ],
          "histogram2d": [
           {
            "colorbar": {
             "outlinewidth": 0,
             "ticks": ""
            },
            "colorscale": [
             [
              0,
              "#0d0887"
             ],
             [
              0.1111111111111111,
              "#46039f"
             ],
             [
              0.2222222222222222,
              "#7201a8"
             ],
             [
              0.3333333333333333,
              "#9c179e"
             ],
             [
              0.4444444444444444,
              "#bd3786"
             ],
             [
              0.5555555555555556,
              "#d8576b"
             ],
             [
              0.6666666666666666,
              "#ed7953"
             ],
             [
              0.7777777777777778,
              "#fb9f3a"
             ],
             [
              0.8888888888888888,
              "#fdca26"
             ],
             [
              1,
              "#f0f921"
             ]
            ],
            "type": "histogram2d"
           }
          ],
          "histogram2dcontour": [
           {
            "colorbar": {
             "outlinewidth": 0,
             "ticks": ""
            },
            "colorscale": [
             [
              0,
              "#0d0887"
             ],
             [
              0.1111111111111111,
              "#46039f"
             ],
             [
              0.2222222222222222,
              "#7201a8"
             ],
             [
              0.3333333333333333,
              "#9c179e"
             ],
             [
              0.4444444444444444,
              "#bd3786"
             ],
             [
              0.5555555555555556,
              "#d8576b"
             ],
             [
              0.6666666666666666,
              "#ed7953"
             ],
             [
              0.7777777777777778,
              "#fb9f3a"
             ],
             [
              0.8888888888888888,
              "#fdca26"
             ],
             [
              1,
              "#f0f921"
             ]
            ],
            "type": "histogram2dcontour"
           }
          ],
          "mesh3d": [
           {
            "colorbar": {
             "outlinewidth": 0,
             "ticks": ""
            },
            "type": "mesh3d"
           }
          ],
          "parcoords": [
           {
            "line": {
             "colorbar": {
              "outlinewidth": 0,
              "ticks": ""
             }
            },
            "type": "parcoords"
           }
          ],
          "pie": [
           {
            "automargin": true,
            "type": "pie"
           }
          ],
          "scatter": [
           {
            "fillpattern": {
             "fillmode": "overlay",
             "size": 10,
             "solidity": 0.2
            },
            "type": "scatter"
           }
          ],
          "scatter3d": [
           {
            "line": {
             "colorbar": {
              "outlinewidth": 0,
              "ticks": ""
             }
            },
            "marker": {
             "colorbar": {
              "outlinewidth": 0,
              "ticks": ""
             }
            },
            "type": "scatter3d"
           }
          ],
          "scattercarpet": [
           {
            "marker": {
             "colorbar": {
              "outlinewidth": 0,
              "ticks": ""
             }
            },
            "type": "scattercarpet"
           }
          ],
          "scattergeo": [
           {
            "marker": {
             "colorbar": {
              "outlinewidth": 0,
              "ticks": ""
             }
            },
            "type": "scattergeo"
           }
          ],
          "scattergl": [
           {
            "marker": {
             "colorbar": {
              "outlinewidth": 0,
              "ticks": ""
             }
            },
            "type": "scattergl"
           }
          ],
          "scattermapbox": [
           {
            "marker": {
             "colorbar": {
              "outlinewidth": 0,
              "ticks": ""
             }
            },
            "type": "scattermapbox"
           }
          ],
          "scatterpolar": [
           {
            "marker": {
             "colorbar": {
              "outlinewidth": 0,
              "ticks": ""
             }
            },
            "type": "scatterpolar"
           }
          ],
          "scatterpolargl": [
           {
            "marker": {
             "colorbar": {
              "outlinewidth": 0,
              "ticks": ""
             }
            },
            "type": "scatterpolargl"
           }
          ],
          "scatterternary": [
           {
            "marker": {
             "colorbar": {
              "outlinewidth": 0,
              "ticks": ""
             }
            },
            "type": "scatterternary"
           }
          ],
          "surface": [
           {
            "colorbar": {
             "outlinewidth": 0,
             "ticks": ""
            },
            "colorscale": [
             [
              0,
              "#0d0887"
             ],
             [
              0.1111111111111111,
              "#46039f"
             ],
             [
              0.2222222222222222,
              "#7201a8"
             ],
             [
              0.3333333333333333,
              "#9c179e"
             ],
             [
              0.4444444444444444,
              "#bd3786"
             ],
             [
              0.5555555555555556,
              "#d8576b"
             ],
             [
              0.6666666666666666,
              "#ed7953"
             ],
             [
              0.7777777777777778,
              "#fb9f3a"
             ],
             [
              0.8888888888888888,
              "#fdca26"
             ],
             [
              1,
              "#f0f921"
             ]
            ],
            "type": "surface"
           }
          ],
          "table": [
           {
            "cells": {
             "fill": {
              "color": "#EBF0F8"
             },
             "line": {
              "color": "white"
             }
            },
            "header": {
             "fill": {
              "color": "#C8D4E3"
             },
             "line": {
              "color": "white"
             }
            },
            "type": "table"
           }
          ]
         },
         "layout": {
          "annotationdefaults": {
           "arrowcolor": "#2a3f5f",
           "arrowhead": 0,
           "arrowwidth": 1
          },
          "autotypenumbers": "strict",
          "coloraxis": {
           "colorbar": {
            "outlinewidth": 0,
            "ticks": ""
           }
          },
          "colorscale": {
           "diverging": [
            [
             0,
             "#8e0152"
            ],
            [
             0.1,
             "#c51b7d"
            ],
            [
             0.2,
             "#de77ae"
            ],
            [
             0.3,
             "#f1b6da"
            ],
            [
             0.4,
             "#fde0ef"
            ],
            [
             0.5,
             "#f7f7f7"
            ],
            [
             0.6,
             "#e6f5d0"
            ],
            [
             0.7,
             "#b8e186"
            ],
            [
             0.8,
             "#7fbc41"
            ],
            [
             0.9,
             "#4d9221"
            ],
            [
             1,
             "#276419"
            ]
           ],
           "sequential": [
            [
             0,
             "#0d0887"
            ],
            [
             0.1111111111111111,
             "#46039f"
            ],
            [
             0.2222222222222222,
             "#7201a8"
            ],
            [
             0.3333333333333333,
             "#9c179e"
            ],
            [
             0.4444444444444444,
             "#bd3786"
            ],
            [
             0.5555555555555556,
             "#d8576b"
            ],
            [
             0.6666666666666666,
             "#ed7953"
            ],
            [
             0.7777777777777778,
             "#fb9f3a"
            ],
            [
             0.8888888888888888,
             "#fdca26"
            ],
            [
             1,
             "#f0f921"
            ]
           ],
           "sequentialminus": [
            [
             0,
             "#0d0887"
            ],
            [
             0.1111111111111111,
             "#46039f"
            ],
            [
             0.2222222222222222,
             "#7201a8"
            ],
            [
             0.3333333333333333,
             "#9c179e"
            ],
            [
             0.4444444444444444,
             "#bd3786"
            ],
            [
             0.5555555555555556,
             "#d8576b"
            ],
            [
             0.6666666666666666,
             "#ed7953"
            ],
            [
             0.7777777777777778,
             "#fb9f3a"
            ],
            [
             0.8888888888888888,
             "#fdca26"
            ],
            [
             1,
             "#f0f921"
            ]
           ]
          },
          "colorway": [
           "#636efa",
           "#EF553B",
           "#00cc96",
           "#ab63fa",
           "#FFA15A",
           "#19d3f3",
           "#FF6692",
           "#B6E880",
           "#FF97FF",
           "#FECB52"
          ],
          "font": {
           "color": "#2a3f5f"
          },
          "geo": {
           "bgcolor": "white",
           "lakecolor": "white",
           "landcolor": "#E5ECF6",
           "showlakes": true,
           "showland": true,
           "subunitcolor": "white"
          },
          "hoverlabel": {
           "align": "left"
          },
          "hovermode": "closest",
          "mapbox": {
           "style": "light"
          },
          "paper_bgcolor": "white",
          "plot_bgcolor": "#E5ECF6",
          "polar": {
           "angularaxis": {
            "gridcolor": "white",
            "linecolor": "white",
            "ticks": ""
           },
           "bgcolor": "#E5ECF6",
           "radialaxis": {
            "gridcolor": "white",
            "linecolor": "white",
            "ticks": ""
           }
          },
          "scene": {
           "xaxis": {
            "backgroundcolor": "#E5ECF6",
            "gridcolor": "white",
            "gridwidth": 2,
            "linecolor": "white",
            "showbackground": true,
            "ticks": "",
            "zerolinecolor": "white"
           },
           "yaxis": {
            "backgroundcolor": "#E5ECF6",
            "gridcolor": "white",
            "gridwidth": 2,
            "linecolor": "white",
            "showbackground": true,
            "ticks": "",
            "zerolinecolor": "white"
           },
           "zaxis": {
            "backgroundcolor": "#E5ECF6",
            "gridcolor": "white",
            "gridwidth": 2,
            "linecolor": "white",
            "showbackground": true,
            "ticks": "",
            "zerolinecolor": "white"
           }
          },
          "shapedefaults": {
           "line": {
            "color": "#2a3f5f"
           }
          },
          "ternary": {
           "aaxis": {
            "gridcolor": "white",
            "linecolor": "white",
            "ticks": ""
           },
           "baxis": {
            "gridcolor": "white",
            "linecolor": "white",
            "ticks": ""
           },
           "bgcolor": "#E5ECF6",
           "caxis": {
            "gridcolor": "white",
            "linecolor": "white",
            "ticks": ""
           }
          },
          "title": {
           "x": 0.05
          },
          "xaxis": {
           "automargin": true,
           "gridcolor": "white",
           "linecolor": "white",
           "ticks": "",
           "title": {
            "standoff": 15
           },
           "zerolinecolor": "white",
           "zerolinewidth": 2
          },
          "yaxis": {
           "automargin": true,
           "gridcolor": "white",
           "linecolor": "white",
           "ticks": "",
           "title": {
            "standoff": 15
           },
           "zerolinecolor": "white",
           "zerolinewidth": 2
          }
         }
        },
        "title": {
         "text": "Word Embeddings in 3D using PCA"
        },
        "width": 1200
       }
      },
      "image/png": "[encoded data removed]",
      "text/html": [
       "<div>                            <div id=\"5dcf1b5f-8e06-4b43-9c30-d2e840fe1b37\" class=\"plotly-graph-div\" style=\"height:800px; width:1200px;\"></div>            <script type=\"text/javascript\">                require([\"plotly\"], function(Plotly) {                    window.PLOTLYENV=window.PLOTLYENV || {};                                    if (document.getElementById(\"5dcf1b5f-8e06-4b43-9c30-d2e840fe1b37\")) {                    Plotly.newPlot(                        \"5dcf1b5f-8e06-4b43-9c30-d2e840fe1b37\",                        [{\"marker\":{\"color\":\"red\",\"size\":5},\"mode\":\"markers+text\",\"text\":[\"nephew\",\"son\",\"brother\",\"grandmother\",\"sister\",\"grandma\",\"daughter\",\"brother\",\"mom\",\"dad\",\"father\",\"aunt\",\"mother\",\"cousin\",\"niece\",\"grandson\",\"dad\",\"cousin\",\"stepdaughter\",\"duvet\",\"comforter\",\"mattress\",\"duvets\",\"pillowtop\",\"sheet\",\"sheets\",\"pillows\",\"quilts\",\"blankets\",\"bedspread\",\"bedding\",\"bed\",\"linen\",\"beds\",\"linens\",\"bedspreads\",\"3\",\"2\",\"4\",\"5\",\"6\",\"7\",\"8\",\"9\",\"10\",\"18\",\"20\",\"25\",\"27\",\"30\",\"90\",\"two\",\"three\",\"four\",\"six\",\"seven\",\"eight\",\"nine\",\"ten\",\"twenty\",\"amazing\",\"fantastic\",\"fabulous\",\"superb\",\"marvelous\",\"incredible\",\"phenomenal\",\"exceptional\",\"awsome\",\"remarkable\",\"excellent\",\"great\",\"good\",\"outstanding\",\"terrific\",\"brilliant\",\"extraordinary\",\"wonderful\",\"unbelievable\",\"tremendous\",\"perfect\",\"florida\",\"canada\",\"scotland\",\"oregon\",\"mexico\",\"ireland\",\"spain\",\"california\",\"hawaii\",\"pittsburgh\",\"sydney\",\"australia\",\"england\",\"germany\",\"alaska\",\"sweden\",\"norway\",\"atlanta\",\"boston\",\"montreal\",\"toronto\",\"peru\"],\"textfont\":{\"color\":\"black\",\"size\":10},\"textposition\":\"top center\",\"x\":[-1.332999348640442,-0.6568204164505005,-1.1745953559875488,-0.7389004230499268,-0.9234541058540344,-0.8909767866134644,-0.8550122380256653,-1.1745957136154175,-0.6921595335006714,-0.8348504900932312,-0.9719022512435913,-1.2394660711288452,-0.9107840061187744,-0.9309284687042236,-1.1029433012008667,-0.8996333479881287,-0.8348501324653625,-0.9309285879135132,-1.2026104927062988,2.1020350456237793,2.045609474182129,1.6368589401245117,2.275939702987671,2.250817060470581,1.8078616857528687,1.6859210729599,2.0171077251434326,2.043811082839966,1.8833446502685547,1.1360927820205688,1.742916226387024,1.5065160989761353,1.8478144407272339,1.5978204011917114,1.7869247198104858,1.3298704624176025,0.0786307230591774,0.3032713830471039,-0.04089654982089996,-0.01956505887210369,-0.2826365530490875,-0.3215603232383728,-0.2643229365348816,-0.5028402209281921,-0.0187570508569479,-0.35045909881591797,-0.04725237563252449,-0.09138017892837524,-0.5451363325119019,-0.17536184191703796,0.13305512070655823,0.3099973499774933,0.007310768123716116,-0.1367313116788864,-0.11647452414035797,-0.3913896679878235,-0.17749445140361786,-0.3890289068222046,-0.11341477930545807,0.0910072922706604,0.8955413103103638,0.8991818428039551,0.7461866736412048,0.9236865639686584,0.8077925443649292,1.0678279399871826,1.0017595291137695,0.6330487728118896,0.978031575679779,0.7352515459060669,0.8959940671920776,0.9389790892601013,1.092514991760254,0.6960434913635254,0.9278352856636047,0.8938543200492859,0.914723813533783,0.7249605655670166,0.8858813643455505,0.8612021207809448,0.7122146487236023,-1.125755786895752,-1.3674507141113281,-1.1508795022964478,-1.5206207036972046,-1.276914119720459,-0.8783565759658813,-1.1787900924682617,-1.0526366233825684,-1.2780718803405762,-1.7807244062423706,-1.3453603982925415,-1.178529977798462,-1.0882140398025513,-1.5038905143737793,-1.0425713062286377,-1.0866409540176392,-1.1155869960784912,-1.6382310390472412,-1.20498526096344,-1.5112993717193604,-1.2111477851867676,-1.0332766771316528],\"y\":[1.3370252847671509,1.0910683870315552,1.235357403755188,1.3629390001296997,1.032429575920105,0.8291390538215637,1.2357254028320312,1.235357403755188,1.2588365077972412,1.1462087631225586,1.0570011138916016,1.8383009433746338,1.0177983045578003,1.5025593042373657,1.4837656021118164,0.750186026096344,1.146208643913269,1.5025594234466553,1.977705717086792,1.4668747186660767,1.3264154195785522,1.05794095993042,1.0792324542999268,1.5064518451690674,0.9913725852966309,1.2711037397384644,0.7127555012702942,1.7842204570770264,0.7348266243934631,1.5726780891418457,0.7737395167350769,0.6492424011230469,0.9560953378677368,0.3809436857700348,0.8473389148712158,1.3738428354263306,-0.9729177951812744,-0.8514540791511536,-0.9349453449249268,-1.0555144548416138,-0.971792459487915,-1.0964758396148682,-0.9557737112045288,-0.5553848743438721,-0.891662061214447,-0.34987911581993103,-0.7192057371139526,-0.7987641096115112,-0.5459271669387817,-0.592471718788147,-0.6249525547027588,-0.8167425990104675,-1.0398157835006714,-0.9898187518119812,-0.9782066941261292,-0.8650611639022827,-1.1433875560760498,-0.6602227091789246,-0.9387509226799011,-0.6076707243919373,-0.8597656488418579,-0.9600428938865662,-0.8663994073867798,-1.0389504432678223,-1.0225168466567993,-0.9905615448951721,-0.7067203521728516,-0.7937939763069153,-0.6639692187309265,-1.0836377143859863,-1.0013610124588013,-0.9825897216796875,-0.8070791363716125,-0.9123062491416931,-1.1084345579147339,-1.0335972309112549,-0.7804072499275208,-0.9497022032737732,-0.8328887224197388,-0.8164315819740295,-0.8573046922683716,-0.46950241923332214,-0.22082556784152985,-0.13611222803592682,-0.15154632925987244,-0.3572559356689453,-0.10609538853168488,0.05287487804889679,-0.06452479213476181,0.10835211724042892,0.26306748390197754,0.0076328543946146965,-0.035371653735637665,0.02366681955754757,-0.2442578822374344,-0.018557341769337654,-0.052525393664836884,-0.2825357913970947,-0.281218558549881,-0.2887178063392639,-0.3988392651081085,-0.4058986306190491,-0.44180673360824585],\"z\":[-0.1212957352399826,0.587469220161438,0.28722646832466125,-0.17628991603851318,-0.22066761553287506,-0.1006731167435646,0.4205953776836395,0.2872259020805359,0.11755136400461197,-0.1462646722793579,0.08893012255430222,-0.22391019761562347,0.3490228056907654,0.02983580157160759,0.19055767357349396,0.4160512685775757,-0.14626480638980865,0.029835868626832962,0.21599474549293518,0.42140060663223267,-0.021073393523693085,-0.01911945641040802,0.14075683057308197,-0.28867945075035095,0.3756854236125946,0.2107429951429367,-0.0680321455001831,0.3543674647808075,0.5308593511581421,-0.022090109065175056,-0.02351381815969944,-0.08331909775733948,0.26849988102912903,-0.18203653395175934,0.008554949425160885,0.2882004976272583,1.0991127490997314,1.0167590379714966,1.0228437185287476,1.1363215446472168,1.217955231666565,1.2336276769638062,1.2906155586242676,1.3790287971496582,1.4287281036376953,1.2241870164871216,1.4330865144729614,1.4422671794891357,1.1461842060089111,1.4268620014190674,1.2079741954803467,0.6799049377441406,0.8550059199333191,0.7729476690292358,1.1028835773468018,1.2482558488845825,1.0358103513717651,1.344796895980835,1.2763688564300537,1.3024570941925049,-0.9367756843566895,-0.8451389074325562,-0.9928998351097107,-0.950383186340332,-0.8285027742385864,-0.9215649366378784,-0.8525015115737915,-1.0891869068145752,-0.7536741495132446,-1.0275863409042358,-0.802394688129425,-0.9406419396400452,-0.7446972131729126,-1.0331140756607056,-0.9700818061828613,-0.7793477773666382,-0.6926590800285339,-0.9290318489074707,-0.5729711651802063,-0.7562720775604248,-0.5316972732543945,-0.9011644721031189,-0.33460354804992676,-0.35013923048973083,-0.49489784240722656,-0.7547860145568848,-0.8099489212036133,-0.8813153505325317,-0.7430071830749512,-0.5421923398971558,-0.8356394171714783,-0.4373042583465576,-0.7560672163963318,-0.3262980580329895,-1.2763781547546387,-0.6709151268005371,-0.8551965355873108,-0.24961265921592712,-0.48925110697746277,-0.6225935220718384,-0.4627459943294525,-0.576515793800354,-0.7784361839294434],\"type\":\"scatter3d\"}],                        {\"height\":800,\"scene\":{\"xaxis\":{\"title\":{\"text\":\"X\"}},\"yaxis\":{\"title\":{\"text\":\"Y\"}},\"zaxis\":{\"title\":{\"text\":\"Z\"}}},\"title\":{\"text\":\"Word Embeddings in 3D using PCA\"},\"width\":1200,\"template\":{\"data\":{\"histogram2dcontour\":[{\"type\":\"histogram2dcontour\",\"colorbar\":{\"outlinewidth\":0,\"ticks\":\"\"},\"colorscale\":[[0.0,\"#0d0887\"],[0.1111111111111111,\"#46039f\"],[0.2222222222222222,\"#7201a8\"],[0.3333333333333333,\"#9c179e\"],[0.4444444444444444,\"#bd3786\"],[0.5555555555555556,\"#d8576b\"],[0.6666666666666666,\"#ed7953\"],[0.7777777777777778,\"#fb9f3a\"],[0.8888888888888888,\"#fdca26\"],[1.0,\"#f0f921\"]]}],\"choropleth\":[{\"type\":\"choropleth\",\"colorbar\":{\"outlinewidth\":0,\"ticks\":\"\"}}],\"histogram2d\":[{\"type\":\"histogram2d\",\"colorbar\":{\"outlinewidth\":0,\"ticks\":\"\"},\"colorscale\":[[0.0,\"#0d0887\"],[0.1111111111111111,\"#46039f\"],[0.2222222222222222,\"#7201a8\"],[0.3333333333333333,\"#9c179e\"],[0.4444444444444444,\"#bd3786\"],[0.5555555555555556,\"#d8576b\"],[0.6666666666666666,\"#ed7953\"],[0.7777777777777778,\"#fb9f3a\"],[0.8888888888888888,\"#fdca26\"],[1.0,\"#f0f921\"]]}],\"heatmap\":[{\"type\":\"heatmap\",\"colorbar\":{\"outlinewidth\":0,\"ticks\":\"\"},\"colorscale\":[[0.0,\"#0d0887\"],[0.1111111111111111,\"#46039f\"],[0.2222222222222222,\"#7201a8\"],[0.3333333333333333,\"#9c179e\"],[0.4444444444444444,\"#bd3786\"],[0.5555555555555556,\"#d8576b\"],[0.6666666666666666,\"#ed7953\"],[0.7777777777777778,\"#fb9f3a\"],[0.8888888888888888,\"#fdca26\"],[1.0,\"#f0f921\"]]}],\"heatmapgl\":[{\"type\":\"heatmapgl\",\"colorbar\":{\"outlinewidth\":0,\"ticks\":\"\"},\"colorscale\":[[0.0,\"#0d0887\"],[0.1111111111111111,\"#46039f\"],[0.2222222222222222,\"#7201a8\"],[0.3333333333333333,\"#9c179e\"],[0.4444444444444444,\"#bd3786\"],[0.5555555555555556,\"#d8576b\"],[0.6666666666666666,\"#ed7953\"],[0.7777777777777778,\"#fb9f3a\"],[0.8888888888888888,\"#fdca26\"],[1.0,\"#f0f921\"]]}],\"contourcarpet\":[{\"type\":\"contourcarpet\",\"colorbar\":{\"outlinewidth\":0,\"ticks\":\"\"}}],\"contour\":[{\"type\":\"contour\",\"colorbar\":{\"outlinewidth\":0,\"ticks\":\"\"},\"colorscale\":[[0.0,\"#0d0887\"],[0.1111111111111111,\"#46039f\"],[0.2222222222222222,\"#7201a8\"],[0.3333333333333333,\"#9c179e\"],[0.4444444444444444,\"#bd3786\"],[0.5555555555555556,\"#d8576b\"],[0.6666666666666666,\"#ed7953\"],[0.7777777777777778,\"#fb9f3a\"],[0.8888888888888888,\"#fdca26\"],[1.0,\"#f0f921\"]]}],\"surface\":[{\"type\":\"surface\",\"colorbar\":{\"outlinewidth\":0,\"ticks\":\"\"},\"colorscale\":[[0.0,\"#0d0887\"],[0.1111111111111111,\"#46039f\"],[0.2222222222222222,\"#7201a8\"],[0.3333333333333333,\"#9c179e\"],[0.4444444444444444,\"#bd3786\"],[0.5555555555555556,\"#d8576b\"],[0.6666666666666666,\"#ed7953\"],[0.7777777777777778,\"#fb9f3a\"],[0.8888888888888888,\"#fdca26\"],[1.0,\"#f0f921\"]]}],\"mesh3d\":[{\"type\":\"mesh3d\",\"colorbar\":{\"outlinewidth\":0,\"ticks\":\"\"}}],\"scatter\":[{\"fillpattern\":{\"fillmode\":\"overlay\",\"size\":10,\"solidity\":0.2},\"type\":\"scatter\"}],\"parcoords\":[{\"type\":\"parcoords\",\"line\":{\"colorbar\":{\"outlinewidth\":0,\"ticks\":\"\"}}}],\"scatterpolargl\":[{\"type\":\"scatterpolargl\",\"marker\":{\"colorbar\":{\"outlinewidth\":0,\"ticks\":\"\"}}}],\"bar\":[{\"error_x\":{\"color\":\"#2a3f5f\"},\"error_y\":{\"color\":\"#2a3f5f\"},\"marker\":{\"line\":{\"color\":\"#E5ECF6\",\"width\":0.5},\"pattern\":{\"fillmode\":\"overlay\",\"size\":10,\"solidity\":0.2}},\"type\":\"bar\"}],\"scattergeo\":[{\"type\":\"scattergeo\",\"marker\":{\"colorbar\":{\"outlinewidth\":0,\"ticks\":\"\"}}}],\"scatterpolar\":[{\"type\":\"scatterpolar\",\"marker\":{\"colorbar\":{\"outlinewidth\":0,\"ticks\":\"\"}}}],\"histogram\":[{\"marker\":{\"pattern\":{\"fillmode\":\"overlay\",\"size\":10,\"solidity\":0.2}},\"type\":\"histogram\"}],\"scattergl\":[{\"type\":\"scattergl\",\"marker\":{\"colorbar\":{\"outlinewidth\":0,\"ticks\":\"\"}}}],\"scatter3d\":[{\"type\":\"scatter3d\",\"line\":{\"colorbar\":{\"outlinewidth\":0,\"ticks\":\"\"}},\"marker\":{\"colorbar\":{\"outlinewidth\":0,\"ticks\":\"\"}}}],\"scattermapbox\":[{\"type\":\"scattermapbox\",\"marker\":{\"colorbar\":{\"outlinewidth\":0,\"ticks\":\"\"}}}],\"scatterternary\":[{\"type\":\"scatterternary\",\"marker\":{\"colorbar\":{\"outlinewidth\":0,\"ticks\":\"\"}}}],\"scattercarpet\":[{\"type\":\"scattercarpet\",\"marker\":{\"colorbar\":{\"outlinewidth\":0,\"ticks\":\"\"}}}],\"carpet\":[{\"aaxis\":{\"endlinecolor\":\"#2a3f5f\",\"gridcolor\":\"white\",\"linecolor\":\"white\",\"minorgridcolor\":\"white\",\"startlinecolor\":\"#2a3f5f\"},\"baxis\":{\"endlinecolor\":\"#2a3f5f\",\"gridcolor\":\"white\",\"linecolor\":\"white\",\"minorgridcolor\":\"white\",\"startlinecolor\":\"#2a3f5f\"},\"type\":\"carpet\"}],\"table\":[{\"cells\":{\"fill\":{\"color\":\"#EBF0F8\"},\"line\":{\"color\":\"white\"}},\"header\":{\"fill\":{\"color\":\"#C8D4E3\"},\"line\":{\"color\":\"white\"}},\"type\":\"table\"}],\"barpolar\":[{\"marker\":{\"line\":{\"color\":\"#E5ECF6\",\"width\":0.5},\"pattern\":{\"fillmode\":\"overlay\",\"size\":10,\"solidity\":0.2}},\"type\":\"barpolar\"}],\"pie\":[{\"automargin\":true,\"type\":\"pie\"}]},\"layout\":{\"autotypenumbers\":\"strict\",\"colorway\":[\"#636efa\",\"#EF553B\",\"#00cc96\",\"#ab63fa\",\"#FFA15A\",\"#19d3f3\",\"#FF6692\",\"#B6E880\",\"#FF97FF\",\"#FECB52\"],\"font\":{\"color\":\"#2a3f5f\"},\"hovermode\":\"closest\",\"hoverlabel\":{\"align\":\"left\"},\"paper_bgcolor\":\"white\",\"plot_bgcolor\":\"#E5ECF6\",\"polar\":{\"bgcolor\":\"#E5ECF6\",\"angularaxis\":{\"gridcolor\":\"white\",\"linecolor\":\"white\",\"ticks\":\"\"},\"radialaxis\":{\"gridcolor\":\"white\",\"linecolor\":\"white\",\"ticks\":\"\"}},\"ternary\":{\"bgcolor\":\"#E5ECF6\",\"aaxis\":{\"gridcolor\":\"white\",\"linecolor\":\"white\",\"ticks\":\"\"},\"baxis\":{\"gridcolor\":\"white\",\"linecolor\":\"white\",\"ticks\":\"\"},\"caxis\":{\"gridcolor\":\"white\",\"linecolor\":\"white\",\"ticks\":\"\"}},\"coloraxis\":{\"colorbar\":{\"outlinewidth\":0,\"ticks\":\"\"}},\"colorscale\":{\"sequential\":[[0.0,\"#0d0887\"],[0.1111111111111111,\"#46039f\"],[0.2222222222222222,\"#7201a8\"],[0.3333333333333333,\"#9c179e\"],[0.4444444444444444,\"#bd3786\"],[0.5555555555555556,\"#d8576b\"],[0.6666666666666666,\"#ed7953\"],[0.7777777777777778,\"#fb9f3a\"],[0.8888888888888888,\"#fdca26\"],[1.0,\"#f0f921\"]],\"sequentialminus\":[[0.0,\"#0d0887\"],[0.1111111111111111,\"#46039f\"],[0.2222222222222222,\"#7201a8\"],[0.3333333333333333,\"#9c179e\"],[0.4444444444444444,\"#bd3786\"],[0.5555555555555556,\"#d8576b\"],[0.6666666666666666,\"#ed7953\"],[0.7777777777777778,\"#fb9f3a\"],[0.8888888888888888,\"#fdca26\"],[1.0,\"#f0f921\"]],\"diverging\":[[0,\"#8e0152\"],[0.1,\"#c51b7d\"],[0.2,\"#de77ae\"],[0.3,\"#f1b6da\"],[0.4,\"#fde0ef\"],[0.5,\"#f7f7f7\"],[0.6,\"#e6f5d0\"],[0.7,\"#b8e186\"],[0.8,\"#7fbc41\"],[0.9,\"#4d9221\"],[1,\"#276419\"]]},\"xaxis\":{\"gridcolor\":\"white\",\"linecolor\":\"white\",\"ticks\":\"\",\"title\":{\"standoff\":15},\"zerolinecolor\":\"white\",\"automargin\":true,\"zerolinewidth\":2},\"yaxis\":{\"gridcolor\":\"white\",\"linecolor\":\"white\",\"ticks\":\"\",\"title\":{\"standoff\":15},\"zerolinecolor\":\"white\",\"automargin\":true,\"zerolinewidth\":2},\"scene\":{\"xaxis\":{\"backgroundcolor\":\"#E5ECF6\",\"gridcolor\":\"white\",\"linecolor\":\"white\",\"showbackground\":true,\"ticks\":\"\",\"zerolinecolor\":\"white\",\"gridwidth\":2},\"yaxis\":{\"backgroundcolor\":\"#E5ECF6\",\"gridcolor\":\"white\",\"linecolor\":\"white\",\"showbackground\":true,\"ticks\":\"\",\"zerolinecolor\":\"white\",\"gridwidth\":2},\"zaxis\":{\"backgroundcolor\":\"#E5ECF6\",\"gridcolor\":\"white\",\"linecolor\":\"white\",\"showbackground\":true,\"ticks\":\"\",\"zerolinecolor\":\"white\",\"gridwidth\":2}},\"shapedefaults\":{\"line\":{\"color\":\"#2a3f5f\"}},\"annotationdefaults\":{\"arrowcolor\":\"#2a3f5f\",\"arrowhead\":0,\"arrowwidth\":1},\"geo\":{\"bgcolor\":\"white\",\"landcolor\":\"#E5ECF6\",\"subunitcolor\":\"white\",\"showland\":true,\"showlakes\":true,\"lakecolor\":\"white\"},\"title\":{\"x\":0.05},\"mapbox\":{\"style\":\"light\"}}}},                        {\"responsive\": true}                    ).then(function(){\n",
       "                            \n",
       "var gd = document.getElementById('5dcf1b5f-8e06-4b43-9c30-d2e840fe1b37');\n",
       "var x = new MutationObserver(function (mutations, observer) {{\n",
       "        var display = window.getComputedStyle(gd).display;\n",
       "        if (!display || display === 'none') {{\n",
       "            console.log([gd, 'removed!']);\n",
       "            Plotly.purge(gd);\n",
       "            observer.disconnect();\n",
       "        }}\n",
       "}});\n",
       "\n",
       "// Listen for the removal of the full notebook cells\n",
       "var notebookContainer = gd.closest('#notebook-container');\n",
       "if (notebookContainer) {{\n",
       "    x.observe(notebookContainer, {childList: true});\n",
       "}}\n",
       "\n",
       "// Listen for the clearing of the current output cell\n",
       "var outputEl = gd.closest('.output');\n",
       "if (outputEl) {{\n",
       "    x.observe(outputEl, {childList: true});\n",
       "}}\n",
       "\n",
       "                        })                };                });            </script>        </div>"
      ]
     },
     "metadata": {},
     "output_type": "display_data"
    }
   ],
   "source": [
    "# find word embeddings\n",
    "word_indices = [vocabulary[word] for word in word_list]\n",
    "word_embeddings = np.array([all_embeddings[idx] for idx in word_indices])\n",
    "\n",
    "# apply PCA to reduce dimensionality to 3D\n",
    "pca = PCA(n_components=3)\n",
    "word_embeddings_pca = pca.fit_transform(word_embeddings)\n",
    "\n",
    "# create a 3D scatter plot\n",
    "scatter = go.Scatter3d(\n",
    "    x=word_embeddings_pca[:, 0],\n",
    "    y=word_embeddings_pca[:, 1],\n",
    "    z=word_embeddings_pca[:, 2],\n",
    "    mode='markers+text',\n",
    "    text=word_list,\n",
    "    textposition='top center',\n",
    "    marker=dict(\n",
    "        size=5,\n",
    "        color='red',\n",
    "    ),\n",
    "    textfont=dict(\n",
    "        size=10,\n",
    "        color='black'\n",
    "    )\n",
    ")\n",
    "\n",
    "# define the layout of the plot\n",
    "layout = go.Layout(\n",
    "    title='Word Embeddings in 3D using PCA',\n",
    "    width=1200,\n",
    "    height=800,\n",
    "    scene=dict(\n",
    "        xaxis=dict(title='X'),\n",
    "        yaxis=dict(title='Y'),\n",
    "        zaxis=dict(title='Z')\n",
    "    )\n",
    ")\n",
    "\n",
    "fig = go.Figure(data=[scatter], layout=layout)\n",
    "pio.show(fig)"
   ]
  },
  {
   "cell_type": "markdown",
   "id": "f652c73f-8700-4b38-8598-180c29714776",
   "metadata": {},
   "source": [
    "We can observe differences between the groups, but there are instances where they overlap. To better distinguish the clusters, let's apply the k-means algorithm."
   ]
  },
  {
   "cell_type": "markdown",
   "id": "2c548584-f688-4799-bb48-87d88e0e3eab",
   "metadata": {},
   "source": [
    "### clustering using k-means"
   ]
  },
  {
   "cell_type": "markdown",
   "id": "6fbfe20e-ff1c-4334-bd72-d8ea2ead1957",
   "metadata": {},
   "source": [
    "#### Implement the k-means algorithm."
   ]
  },
  {
   "cell_type": "code",
   "execution_count": 19,
   "id": "41c6b641-4ee7-4d47-828d-78f16c0b6d46",
   "metadata": {},
   "outputs": [],
   "source": [
    "def euclidean_distance(a: np.array, b: np.array) -> float:\n",
    "    '''\n",
    "    calculate the Euclidean distance between points\n",
    "    pram: a, b - vectors in R^n\n",
    "    return: the distance\n",
    "    '''\n",
    "    return np.sqrt(np.sum((a - b) ** 2, axis=1))\n",
    "\n",
    "def kmeans_numpy(data: np.ndarray, num_clusters: int) -> Dict[int, List[int]]:\n",
    "    '''\n",
    "    k-means algorithm\n",
    "    pram: data - all the embedded words\n",
    "          num_clusters - number of the recuirment clusters\n",
    "    return: dictonary of the clusters, of each value we get the index of the words in'data' that in this cluster\n",
    "    '''\n",
    "    # initialize centroids randomly from the data points\n",
    "    np.random.seed(42)\n",
    "    centroids = data[np.random.choice(data.shape[0], num_clusters, replace=False)]\n",
    "    \n",
    "    while(True):\n",
    "        # assign clusters based on the closest centroid\n",
    "        clusters = {i: [] for i in range(num_clusters)}\n",
    "        for idx, point in enumerate(data):\n",
    "            distances = euclidean_distance(point, centroids)\n",
    "            closest_centroid = np.argmin(distances)\n",
    "            clusters[closest_centroid].append(idx)\n",
    "        \n",
    "        # update centroids to be the mean of the points in the cluster\n",
    "        new_centroids = np.array([np.mean(data[clusters[i]], axis=0) for i in range(num_clusters)])\n",
    "        \n",
    "        # if centroids don't change - done\n",
    "        if np.all(centroids == new_centroids):\n",
    "            break\n",
    "        centroids = new_centroids\n",
    "\n",
    "    return clusters"
   ]
  },
  {
   "cell_type": "markdown",
   "id": "3ed9bdd7-dc31-4b3e-947b-edc320db4612",
   "metadata": {},
   "source": [
    "#### Implementing it on a group of words."
   ]
  },
  {
   "cell_type": "code",
   "execution_count": 20,
   "id": "27f8074e-8378-42bb-923a-4f7bb1e22030",
   "metadata": {},
   "outputs": [
    {
     "name": "stdout",
     "output_type": "stream",
     "text": [
      "     Cluster 0   Cluster 1      Cluster 2 Cluster 3     Cluster 4\n",
      "0        duvet     florida        amazing         3        nephew\n",
      "1    comforter      canada      fantastic         2           son\n",
      "2     mattress    scotland       fabulous         4       brother\n",
      "3       duvets      oregon         superb         5   grandmother\n",
      "4    pillowtop      mexico      marvelous         6        sister\n",
      "5        sheet     ireland     incredible         7       grandma\n",
      "6       sheets       spain     phenomenal         8      daughter\n",
      "7      pillows  california    exceptional         9       brother\n",
      "8       quilts      hawaii         awsome        10           mom\n",
      "9     blankets  pittsburgh     remarkable        18           dad\n",
      "10   bedspread      sydney      excellent        20        father\n",
      "11     bedding   australia          great        25          aunt\n",
      "12         bed     england           good        27        mother\n",
      "13       linen     germany    outstanding        30        cousin\n",
      "14        beds      alaska       terrific        90         niece\n",
      "15      linens      sweden      brilliant       two      grandson\n",
      "16  bedspreads      norway  extraordinary     three           dad\n",
      "17                 atlanta      wonderful      four        cousin\n",
      "18                  boston   unbelievable       six  stepdaughter\n",
      "19                montreal     tremendous     seven              \n",
      "20                 toronto        perfect     eight              \n",
      "21                    peru                     nine              \n",
      "22                                              ten              \n",
      "23                                           twenty              \n"
     ]
    }
   ],
   "source": [
    "num_clusters = 5\n",
    "clustering_labels = kmeans_numpy(word_embeddings, num_clusters)\n",
    "clusters = {}\n",
    "\n",
    "# prints the different words in any cluster\n",
    "for i in range(num_clusters):\n",
    "    clusters[i] = []\n",
    "    for j in clustering_labels[i]:\n",
    "        clusters[i].append(word_list[j])\n",
    "\n",
    "# Convert dictionary to DataFrame\n",
    "df = pd.DataFrame(dict([(k, pd.Series(v)) for k, v in clusters.items()]))\n",
    "\n",
    "# Replace NaN with an empty string\n",
    "df = df.fillna('')\n",
    "\n",
    "# Rename the columns to \"cluster {number}\"\n",
    "df.columns = [f\"Cluster {i}\" for i in df.columns]\n",
    "print(df)"
   ]
  },
  {
   "cell_type": "markdown",
   "id": "b1bd5a9e-d32d-4d49-a92f-fe82e220e9e1",
   "metadata": {},
   "source": [
    "#### Visualizing the different clusters in 3D space through dimensionality reduction."
   ]
  },
  {
   "cell_type": "code",
   "execution_count": 21,
   "id": "e5ca472e-3d57-4cd6-a952-d97270da23ab",
   "metadata": {},
   "outputs": [
    {
     "data": {
      "application/vnd.plotly.v1+json": {
       "config": {
        "plotlyServerURL": "https://plot.ly"
       },
       "data": [
        {
         "marker": {
          "color": [
           "yellow",
           "yellow",
           "yellow",
           "yellow",
           "yellow",
           "yellow",
           "yellow",
           "yellow",
           "yellow",
           "yellow",
           "yellow",
           "yellow",
           "yellow",
           "yellow",
           "yellow",
           "yellow",
           "yellow",
           "yellow",
           "yellow",
           "red",
           "red",
           "red",
           "red",
           "red",
           "red",
           "red",
           "red",
           "red",
           "red",
           "red",
           "red",
           "red",
           "red",
           "red",
           "red",
           "red",
           "magenta",
           "magenta",
           "magenta",
           "magenta",
           "magenta",
           "magenta",
           "magenta",
           "magenta",
           "magenta",
           "magenta",
           "magenta",
           "magenta",
           "magenta",
           "magenta",
           "magenta",
           "magenta",
           "magenta",
           "magenta",
           "magenta",
           "magenta",
           "magenta",
           "magenta",
           "magenta",
           "magenta",
           "blue",
           "blue",
           "blue",
           "blue",
           "blue",
           "blue",
           "blue",
           "blue",
           "blue",
           "blue",
           "blue",
           "blue",
           "blue",
           "blue",
           "blue",
           "blue",
           "blue",
           "blue",
           "blue",
           "blue",
           "blue",
           "green",
           "green",
           "green",
           "green",
           "green",
           "green",
           "green",
           "green",
           "green",
           "green",
           "green",
           "green",
           "green",
           "green",
           "green",
           "green",
           "green",
           "green",
           "green",
           "green",
           "green",
           "green"
          ],
          "size": 5
         },
         "mode": "markers+text",
         "text": [
          "nephew",
          "son",
          "brother",
          "grandmother",
          "sister",
          "grandma",
          "daughter",
          "brother",
          "mom",
          "dad",
          "father",
          "aunt",
          "mother",
          "cousin",
          "niece",
          "grandson",
          "dad",
          "cousin",
          "stepdaughter",
          "duvet",
          "comforter",
          "mattress",
          "duvets",
          "pillowtop",
          "sheet",
          "sheets",
          "pillows",
          "quilts",
          "blankets",
          "bedspread",
          "bedding",
          "bed",
          "linen",
          "beds",
          "linens",
          "bedspreads",
          "3",
          "2",
          "4",
          "5",
          "6",
          "7",
          "8",
          "9",
          "10",
          "18",
          "20",
          "25",
          "27",
          "30",
          "90",
          "two",
          "three",
          "four",
          "six",
          "seven",
          "eight",
          "nine",
          "ten",
          "twenty",
          "amazing",
          "fantastic",
          "fabulous",
          "superb",
          "marvelous",
          "incredible",
          "phenomenal",
          "exceptional",
          "awsome",
          "remarkable",
          "excellent",
          "great",
          "good",
          "outstanding",
          "terrific",
          "brilliant",
          "extraordinary",
          "wonderful",
          "unbelievable",
          "tremendous",
          "perfect",
          "florida",
          "canada",
          "scotland",
          "oregon",
          "mexico",
          "ireland",
          "spain",
          "california",
          "hawaii",
          "pittsburgh",
          "sydney",
          "australia",
          "england",
          "germany",
          "alaska",
          "sweden",
          "norway",
          "atlanta",
          "boston",
          "montreal",
          "toronto",
          "peru"
         ],
         "textfont": {
          "color": "black",
          "size": 10
         },
         "textposition": "top center",
         "type": "scatter3d",
         "x": [
          -1.332999348640442,
          -0.6568204164505005,
          -1.1745953559875488,
          -0.7389004230499268,
          -0.9234541058540344,
          -0.8909767866134644,
          -0.8550122380256653,
          -1.1745957136154175,
          -0.6921595335006714,
          -0.8348504900932312,
          -0.9719022512435913,
          -1.2394660711288452,
          -0.9107840061187744,
          -0.9309284687042236,
          -1.1029433012008667,
          -0.8996333479881287,
          -0.8348501324653625,
          -0.9309285879135132,
          -1.2026104927062988,
          2.1020350456237793,
          2.045609474182129,
          1.6368589401245117,
          2.275939702987671,
          2.250817060470581,
          1.8078616857528687,
          1.6859210729599,
          2.0171077251434326,
          2.043811082839966,
          1.8833446502685547,
          1.1360927820205688,
          1.742916226387024,
          1.5065160989761353,
          1.8478144407272339,
          1.5978204011917114,
          1.7869247198104858,
          1.3298704624176025,
          0.0786307230591774,
          0.3032713830471039,
          -0.04089654982089996,
          -0.01956505887210369,
          -0.2826365530490875,
          -0.3215603232383728,
          -0.2643229365348816,
          -0.5028402209281921,
          -0.0187570508569479,
          -0.35045909881591797,
          -0.04725237563252449,
          -0.09138017892837524,
          -0.5451363325119019,
          -0.17536184191703796,
          0.13305512070655823,
          0.3099973499774933,
          0.007310768123716116,
          -0.1367313116788864,
          -0.11647452414035797,
          -0.3913896679878235,
          -0.17749445140361786,
          -0.3890289068222046,
          -0.11341477930545807,
          0.0910072922706604,
          0.8955413103103638,
          0.8991818428039551,
          0.7461866736412048,
          0.9236865639686584,
          0.8077925443649292,
          1.0678279399871826,
          1.0017595291137695,
          0.6330487728118896,
          0.978031575679779,
          0.7352515459060669,
          0.8959940671920776,
          0.9389790892601013,
          1.092514991760254,
          0.6960434913635254,
          0.9278352856636047,
          0.8938543200492859,
          0.914723813533783,
          0.7249605655670166,
          0.8858813643455505,
          0.8612021207809448,
          0.7122146487236023,
          -1.125755786895752,
          -1.3674507141113281,
          -1.1508795022964478,
          -1.5206207036972046,
          -1.276914119720459,
          -0.8783565759658813,
          -1.1787900924682617,
          -1.0526366233825684,
          -1.2780718803405762,
          -1.7807244062423706,
          -1.3453603982925415,
          -1.178529977798462,
          -1.0882140398025513,
          -1.5038905143737793,
          -1.0425713062286377,
          -1.0866409540176392,
          -1.1155869960784912,
          -1.6382310390472412,
          -1.20498526096344,
          -1.5112993717193604,
          -1.2111477851867676,
          -1.0332766771316528
         ],
         "y": [
          1.3370252847671509,
          1.0910683870315552,
          1.235357403755188,
          1.3629390001296997,
          1.032429575920105,
          0.8291390538215637,
          1.2357254028320312,
          1.235357403755188,
          1.2588365077972412,
          1.1462087631225586,
          1.0570011138916016,
          1.8383009433746338,
          1.0177983045578003,
          1.5025593042373657,
          1.4837656021118164,
          0.750186026096344,
          1.146208643913269,
          1.5025594234466553,
          1.977705717086792,
          1.4668747186660767,
          1.3264154195785522,
          1.05794095993042,
          1.0792324542999268,
          1.5064518451690674,
          0.9913725852966309,
          1.2711037397384644,
          0.7127555012702942,
          1.7842204570770264,
          0.7348266243934631,
          1.5726780891418457,
          0.7737395167350769,
          0.6492424011230469,
          0.9560953378677368,
          0.3809436857700348,
          0.8473389148712158,
          1.3738428354263306,
          -0.9729177951812744,
          -0.8514540791511536,
          -0.9349453449249268,
          -1.0555144548416138,
          -0.971792459487915,
          -1.0964758396148682,
          -0.9557737112045288,
          -0.5553848743438721,
          -0.891662061214447,
          -0.34987911581993103,
          -0.7192057371139526,
          -0.7987641096115112,
          -0.5459271669387817,
          -0.592471718788147,
          -0.6249525547027588,
          -0.8167425990104675,
          -1.0398157835006714,
          -0.9898187518119812,
          -0.9782066941261292,
          -0.8650611639022827,
          -1.1433875560760498,
          -0.6602227091789246,
          -0.9387509226799011,
          -0.6076707243919373,
          -0.8597656488418579,
          -0.9600428938865662,
          -0.8663994073867798,
          -1.0389504432678223,
          -1.0225168466567993,
          -0.9905615448951721,
          -0.7067203521728516,
          -0.7937939763069153,
          -0.6639692187309265,
          -1.0836377143859863,
          -1.0013610124588013,
          -0.9825897216796875,
          -0.8070791363716125,
          -0.9123062491416931,
          -1.1084345579147339,
          -1.0335972309112549,
          -0.7804072499275208,
          -0.9497022032737732,
          -0.8328887224197388,
          -0.8164315819740295,
          -0.8573046922683716,
          -0.46950241923332214,
          -0.22082556784152985,
          -0.13611222803592682,
          -0.15154632925987244,
          -0.3572559356689453,
          -0.10609538853168488,
          0.05287487804889679,
          -0.06452479213476181,
          0.10835211724042892,
          0.26306748390197754,
          0.0076328543946146965,
          -0.035371653735637665,
          0.02366681955754757,
          -0.2442578822374344,
          -0.018557341769337654,
          -0.052525393664836884,
          -0.2825357913970947,
          -0.281218558549881,
          -0.2887178063392639,
          -0.3988392651081085,
          -0.4058986306190491,
          -0.44180673360824585
         ],
         "z": [
          -0.1212957352399826,
          0.587469220161438,
          0.28722646832466125,
          -0.17628991603851318,
          -0.22066761553287506,
          -0.1006731167435646,
          0.4205953776836395,
          0.2872259020805359,
          0.11755136400461197,
          -0.1462646722793579,
          0.08893012255430222,
          -0.22391019761562347,
          0.3490228056907654,
          0.02983580157160759,
          0.19055767357349396,
          0.4160512685775757,
          -0.14626480638980865,
          0.029835868626832962,
          0.21599474549293518,
          0.42140060663223267,
          -0.021073393523693085,
          -0.01911945641040802,
          0.14075683057308197,
          -0.28867945075035095,
          0.3756854236125946,
          0.2107429951429367,
          -0.0680321455001831,
          0.3543674647808075,
          0.5308593511581421,
          -0.022090109065175056,
          -0.02351381815969944,
          -0.08331909775733948,
          0.26849988102912903,
          -0.18203653395175934,
          0.008554949425160885,
          0.2882004976272583,
          1.0991127490997314,
          1.0167590379714966,
          1.0228437185287476,
          1.1363215446472168,
          1.217955231666565,
          1.2336276769638062,
          1.2906155586242676,
          1.3790287971496582,
          1.4287281036376953,
          1.2241870164871216,
          1.4330865144729614,
          1.4422671794891357,
          1.1461842060089111,
          1.4268620014190674,
          1.2079741954803467,
          0.6799049377441406,
          0.8550059199333191,
          0.7729476690292358,
          1.1028835773468018,
          1.2482558488845825,
          1.0358103513717651,
          1.344796895980835,
          1.2763688564300537,
          1.3024570941925049,
          -0.9367756843566895,
          -0.8451389074325562,
          -0.9928998351097107,
          -0.950383186340332,
          -0.8285027742385864,
          -0.9215649366378784,
          -0.8525015115737915,
          -1.0891869068145752,
          -0.7536741495132446,
          -1.0275863409042358,
          -0.802394688129425,
          -0.9406419396400452,
          -0.7446972131729126,
          -1.0331140756607056,
          -0.9700818061828613,
          -0.7793477773666382,
          -0.6926590800285339,
          -0.9290318489074707,
          -0.5729711651802063,
          -0.7562720775604248,
          -0.5316972732543945,
          -0.9011644721031189,
          -0.33460354804992676,
          -0.35013923048973083,
          -0.49489784240722656,
          -0.7547860145568848,
          -0.8099489212036133,
          -0.8813153505325317,
          -0.7430071830749512,
          -0.5421923398971558,
          -0.8356394171714783,
          -0.4373042583465576,
          -0.7560672163963318,
          -0.3262980580329895,
          -1.2763781547546387,
          -0.6709151268005371,
          -0.8551965355873108,
          -0.24961265921592712,
          -0.48925110697746277,
          -0.6225935220718384,
          -0.4627459943294525,
          -0.576515793800354,
          -0.7784361839294434
         ]
        }
       ],
       "layout": {
        "height": 800,
        "scene": {
         "aspectmode": "auto",
         "aspectratio": {
          "x": 1.2470760318413623,
          "y": 0.9594682993957409,
          "z": 0.8357501001127385
         },
         "camera": {
          "center": {
           "x": 0,
           "y": 0,
           "z": 0
          },
          "eye": {
           "x": 1.32816898699654,
           "y": 1.3281689869965398,
           "z": 1.32816898699654
          },
          "projection": {
           "type": "perspective"
          },
          "up": {
           "x": 0,
           "y": 0,
           "z": 1
          }
         },
         "xaxis": {
          "title": {
           "text": "X"
          },
          "type": "linear"
         },
         "yaxis": {
          "title": {
           "text": "Y"
          },
          "type": "linear"
         },
         "zaxis": {
          "title": {
           "text": "Z"
          },
          "type": "linear"
         }
        },
        "template": {
         "data": {
          "bar": [
           {
            "error_x": {
             "color": "#2a3f5f"
            },
            "error_y": {
             "color": "#2a3f5f"
            },
            "marker": {
             "line": {
              "color": "#E5ECF6",
              "width": 0.5
             },
             "pattern": {
              "fillmode": "overlay",
              "size": 10,
              "solidity": 0.2
             }
            },
            "type": "bar"
           }
          ],
          "barpolar": [
           {
            "marker": {
             "line": {
              "color": "#E5ECF6",
              "width": 0.5
             },
             "pattern": {
              "fillmode": "overlay",
              "size": 10,
              "solidity": 0.2
             }
            },
            "type": "barpolar"
           }
          ],
          "carpet": [
           {
            "aaxis": {
             "endlinecolor": "#2a3f5f",
             "gridcolor": "white",
             "linecolor": "white",
             "minorgridcolor": "white",
             "startlinecolor": "#2a3f5f"
            },
            "baxis": {
             "endlinecolor": "#2a3f5f",
             "gridcolor": "white",
             "linecolor": "white",
             "minorgridcolor": "white",
             "startlinecolor": "#2a3f5f"
            },
            "type": "carpet"
           }
          ],
          "choropleth": [
           {
            "colorbar": {
             "outlinewidth": 0,
             "ticks": ""
            },
            "type": "choropleth"
           }
          ],
          "contour": [
           {
            "colorbar": {
             "outlinewidth": 0,
             "ticks": ""
            },
            "colorscale": [
             [
              0,
              "#0d0887"
             ],
             [
              0.1111111111111111,
              "#46039f"
             ],
             [
              0.2222222222222222,
              "#7201a8"
             ],
             [
              0.3333333333333333,
              "#9c179e"
             ],
             [
              0.4444444444444444,
              "#bd3786"
             ],
             [
              0.5555555555555556,
              "#d8576b"
             ],
             [
              0.6666666666666666,
              "#ed7953"
             ],
             [
              0.7777777777777778,
              "#fb9f3a"
             ],
             [
              0.8888888888888888,
              "#fdca26"
             ],
             [
              1,
              "#f0f921"
             ]
            ],
            "type": "contour"
           }
          ],
          "contourcarpet": [
           {
            "colorbar": {
             "outlinewidth": 0,
             "ticks": ""
            },
            "type": "contourcarpet"
           }
          ],
          "heatmap": [
           {
            "colorbar": {
             "outlinewidth": 0,
             "ticks": ""
            },
            "colorscale": [
             [
              0,
              "#0d0887"
             ],
             [
              0.1111111111111111,
              "#46039f"
             ],
             [
              0.2222222222222222,
              "#7201a8"
             ],
             [
              0.3333333333333333,
              "#9c179e"
             ],
             [
              0.4444444444444444,
              "#bd3786"
             ],
             [
              0.5555555555555556,
              "#d8576b"
             ],
             [
              0.6666666666666666,
              "#ed7953"
             ],
             [
              0.7777777777777778,
              "#fb9f3a"
             ],
             [
              0.8888888888888888,
              "#fdca26"
             ],
             [
              1,
              "#f0f921"
             ]
            ],
            "type": "heatmap"
           }
          ],
          "heatmapgl": [
           {
            "colorbar": {
             "outlinewidth": 0,
             "ticks": ""
            },
            "colorscale": [
             [
              0,
              "#0d0887"
             ],
             [
              0.1111111111111111,
              "#46039f"
             ],
             [
              0.2222222222222222,
              "#7201a8"
             ],
             [
              0.3333333333333333,
              "#9c179e"
             ],
             [
              0.4444444444444444,
              "#bd3786"
             ],
             [
              0.5555555555555556,
              "#d8576b"
             ],
             [
              0.6666666666666666,
              "#ed7953"
             ],
             [
              0.7777777777777778,
              "#fb9f3a"
             ],
             [
              0.8888888888888888,
              "#fdca26"
             ],
             [
              1,
              "#f0f921"
             ]
            ],
            "type": "heatmapgl"
           }
          ],
          "histogram": [
           {
            "marker": {
             "pattern": {
              "fillmode": "overlay",
              "size": 10,
              "solidity": 0.2
             }
            },
            "type": "histogram"
           }
          ],
          "histogram2d": [
           {
            "colorbar": {
             "outlinewidth": 0,
             "ticks": ""
            },
            "colorscale": [
             [
              0,
              "#0d0887"
             ],
             [
              0.1111111111111111,
              "#46039f"
             ],
             [
              0.2222222222222222,
              "#7201a8"
             ],
             [
              0.3333333333333333,
              "#9c179e"
             ],
             [
              0.4444444444444444,
              "#bd3786"
             ],
             [
              0.5555555555555556,
              "#d8576b"
             ],
             [
              0.6666666666666666,
              "#ed7953"
             ],
             [
              0.7777777777777778,
              "#fb9f3a"
             ],
             [
              0.8888888888888888,
              "#fdca26"
             ],
             [
              1,
              "#f0f921"
             ]
            ],
            "type": "histogram2d"
           }
          ],
          "histogram2dcontour": [
           {
            "colorbar": {
             "outlinewidth": 0,
             "ticks": ""
            },
            "colorscale": [
             [
              0,
              "#0d0887"
             ],
             [
              0.1111111111111111,
              "#46039f"
             ],
             [
              0.2222222222222222,
              "#7201a8"
             ],
             [
              0.3333333333333333,
              "#9c179e"
             ],
             [
              0.4444444444444444,
              "#bd3786"
             ],
             [
              0.5555555555555556,
              "#d8576b"
             ],
             [
              0.6666666666666666,
              "#ed7953"
             ],
             [
              0.7777777777777778,
              "#fb9f3a"
             ],
             [
              0.8888888888888888,
              "#fdca26"
             ],
             [
              1,
              "#f0f921"
             ]
            ],
            "type": "histogram2dcontour"
           }
          ],
          "mesh3d": [
           {
            "colorbar": {
             "outlinewidth": 0,
             "ticks": ""
            },
            "type": "mesh3d"
           }
          ],
          "parcoords": [
           {
            "line": {
             "colorbar": {
              "outlinewidth": 0,
              "ticks": ""
             }
            },
            "type": "parcoords"
           }
          ],
          "pie": [
           {
            "automargin": true,
            "type": "pie"
           }
          ],
          "scatter": [
           {
            "fillpattern": {
             "fillmode": "overlay",
             "size": 10,
             "solidity": 0.2
            },
            "type": "scatter"
           }
          ],
          "scatter3d": [
           {
            "line": {
             "colorbar": {
              "outlinewidth": 0,
              "ticks": ""
             }
            },
            "marker": {
             "colorbar": {
              "outlinewidth": 0,
              "ticks": ""
             }
            },
            "type": "scatter3d"
           }
          ],
          "scattercarpet": [
           {
            "marker": {
             "colorbar": {
              "outlinewidth": 0,
              "ticks": ""
             }
            },
            "type": "scattercarpet"
           }
          ],
          "scattergeo": [
           {
            "marker": {
             "colorbar": {
              "outlinewidth": 0,
              "ticks": ""
             }
            },
            "type": "scattergeo"
           }
          ],
          "scattergl": [
           {
            "marker": {
             "colorbar": {
              "outlinewidth": 0,
              "ticks": ""
             }
            },
            "type": "scattergl"
           }
          ],
          "scattermapbox": [
           {
            "marker": {
             "colorbar": {
              "outlinewidth": 0,
              "ticks": ""
             }
            },
            "type": "scattermapbox"
           }
          ],
          "scatterpolar": [
           {
            "marker": {
             "colorbar": {
              "outlinewidth": 0,
              "ticks": ""
             }
            },
            "type": "scatterpolar"
           }
          ],
          "scatterpolargl": [
           {
            "marker": {
             "colorbar": {
              "outlinewidth": 0,
              "ticks": ""
             }
            },
            "type": "scatterpolargl"
           }
          ],
          "scatterternary": [
           {
            "marker": {
             "colorbar": {
              "outlinewidth": 0,
              "ticks": ""
             }
            },
            "type": "scatterternary"
           }
          ],
          "surface": [
           {
            "colorbar": {
             "outlinewidth": 0,
             "ticks": ""
            },
            "colorscale": [
             [
              0,
              "#0d0887"
             ],
             [
              0.1111111111111111,
              "#46039f"
             ],
             [
              0.2222222222222222,
              "#7201a8"
             ],
             [
              0.3333333333333333,
              "#9c179e"
             ],
             [
              0.4444444444444444,
              "#bd3786"
             ],
             [
              0.5555555555555556,
              "#d8576b"
             ],
             [
              0.6666666666666666,
              "#ed7953"
             ],
             [
              0.7777777777777778,
              "#fb9f3a"
             ],
             [
              0.8888888888888888,
              "#fdca26"
             ],
             [
              1,
              "#f0f921"
             ]
            ],
            "type": "surface"
           }
          ],
          "table": [
           {
            "cells": {
             "fill": {
              "color": "#EBF0F8"
             },
             "line": {
              "color": "white"
             }
            },
            "header": {
             "fill": {
              "color": "#C8D4E3"
             },
             "line": {
              "color": "white"
             }
            },
            "type": "table"
           }
          ]
         },
         "layout": {
          "annotationdefaults": {
           "arrowcolor": "#2a3f5f",
           "arrowhead": 0,
           "arrowwidth": 1
          },
          "autotypenumbers": "strict",
          "coloraxis": {
           "colorbar": {
            "outlinewidth": 0,
            "ticks": ""
           }
          },
          "colorscale": {
           "diverging": [
            [
             0,
             "#8e0152"
            ],
            [
             0.1,
             "#c51b7d"
            ],
            [
             0.2,
             "#de77ae"
            ],
            [
             0.3,
             "#f1b6da"
            ],
            [
             0.4,
             "#fde0ef"
            ],
            [
             0.5,
             "#f7f7f7"
            ],
            [
             0.6,
             "#e6f5d0"
            ],
            [
             0.7,
             "#b8e186"
            ],
            [
             0.8,
             "#7fbc41"
            ],
            [
             0.9,
             "#4d9221"
            ],
            [
             1,
             "#276419"
            ]
           ],
           "sequential": [
            [
             0,
             "#0d0887"
            ],
            [
             0.1111111111111111,
             "#46039f"
            ],
            [
             0.2222222222222222,
             "#7201a8"
            ],
            [
             0.3333333333333333,
             "#9c179e"
            ],
            [
             0.4444444444444444,
             "#bd3786"
            ],
            [
             0.5555555555555556,
             "#d8576b"
            ],
            [
             0.6666666666666666,
             "#ed7953"
            ],
            [
             0.7777777777777778,
             "#fb9f3a"
            ],
            [
             0.8888888888888888,
             "#fdca26"
            ],
            [
             1,
             "#f0f921"
            ]
           ],
           "sequentialminus": [
            [
             0,
             "#0d0887"
            ],
            [
             0.1111111111111111,
             "#46039f"
            ],
            [
             0.2222222222222222,
             "#7201a8"
            ],
            [
             0.3333333333333333,
             "#9c179e"
            ],
            [
             0.4444444444444444,
             "#bd3786"
            ],
            [
             0.5555555555555556,
             "#d8576b"
            ],
            [
             0.6666666666666666,
             "#ed7953"
            ],
            [
             0.7777777777777778,
             "#fb9f3a"
            ],
            [
             0.8888888888888888,
             "#fdca26"
            ],
            [
             1,
             "#f0f921"
            ]
           ]
          },
          "colorway": [
           "#636efa",
           "#EF553B",
           "#00cc96",
           "#ab63fa",
           "#FFA15A",
           "#19d3f3",
           "#FF6692",
           "#B6E880",
           "#FF97FF",
           "#FECB52"
          ],
          "font": {
           "color": "#2a3f5f"
          },
          "geo": {
           "bgcolor": "white",
           "lakecolor": "white",
           "landcolor": "#E5ECF6",
           "showlakes": true,
           "showland": true,
           "subunitcolor": "white"
          },
          "hoverlabel": {
           "align": "left"
          },
          "hovermode": "closest",
          "mapbox": {
           "style": "light"
          },
          "paper_bgcolor": "white",
          "plot_bgcolor": "#E5ECF6",
          "polar": {
           "angularaxis": {
            "gridcolor": "white",
            "linecolor": "white",
            "ticks": ""
           },
           "bgcolor": "#E5ECF6",
           "radialaxis": {
            "gridcolor": "white",
            "linecolor": "white",
            "ticks": ""
           }
          },
          "scene": {
           "xaxis": {
            "backgroundcolor": "#E5ECF6",
            "gridcolor": "white",
            "gridwidth": 2,
            "linecolor": "white",
            "showbackground": true,
            "ticks": "",
            "zerolinecolor": "white"
           },
           "yaxis": {
            "backgroundcolor": "#E5ECF6",
            "gridcolor": "white",
            "gridwidth": 2,
            "linecolor": "white",
            "showbackground": true,
            "ticks": "",
            "zerolinecolor": "white"
           },
           "zaxis": {
            "backgroundcolor": "#E5ECF6",
            "gridcolor": "white",
            "gridwidth": 2,
            "linecolor": "white",
            "showbackground": true,
            "ticks": "",
            "zerolinecolor": "white"
           }
          },
          "shapedefaults": {
           "line": {
            "color": "#2a3f5f"
           }
          },
          "ternary": {
           "aaxis": {
            "gridcolor": "white",
            "linecolor": "white",
            "ticks": ""
           },
           "baxis": {
            "gridcolor": "white",
            "linecolor": "white",
            "ticks": ""
           },
           "bgcolor": "#E5ECF6",
           "caxis": {
            "gridcolor": "white",
            "linecolor": "white",
            "ticks": ""
           }
          },
          "title": {
           "x": 0.05
          },
          "xaxis": {
           "automargin": true,
           "gridcolor": "white",
           "linecolor": "white",
           "ticks": "",
           "title": {
            "standoff": 15
           },
           "zerolinecolor": "white",
           "zerolinewidth": 2
          },
          "yaxis": {
           "automargin": true,
           "gridcolor": "white",
           "linecolor": "white",
           "ticks": "",
           "title": {
            "standoff": 15
           },
           "zerolinecolor": "white",
           "zerolinewidth": 2
          }
         }
        },
        "title": {
         "text": "Word Embeddings in 3D clustering using k-means"
        },
        "width": 1200
       }
      },
      "text/html": [
       "<div>                            <div id=\"c84ec3ca-3020-4277-815e-2bed2ba72b25\" class=\"plotly-graph-div\" style=\"height:800px; width:1200px;\"></div>            <script type=\"text/javascript\">                require([\"plotly\"], function(Plotly) {                    window.PLOTLYENV=window.PLOTLYENV || {};                                    if (document.getElementById(\"c84ec3ca-3020-4277-815e-2bed2ba72b25\")) {                    Plotly.newPlot(                        \"c84ec3ca-3020-4277-815e-2bed2ba72b25\",                        [{\"marker\":{\"color\":[\"yellow\",\"yellow\",\"yellow\",\"yellow\",\"yellow\",\"yellow\",\"yellow\",\"yellow\",\"yellow\",\"yellow\",\"yellow\",\"yellow\",\"yellow\",\"yellow\",\"yellow\",\"yellow\",\"yellow\",\"yellow\",\"yellow\",\"red\",\"red\",\"red\",\"red\",\"red\",\"red\",\"red\",\"red\",\"red\",\"red\",\"red\",\"red\",\"red\",\"red\",\"red\",\"red\",\"red\",\"magenta\",\"magenta\",\"magenta\",\"magenta\",\"magenta\",\"magenta\",\"magenta\",\"magenta\",\"magenta\",\"magenta\",\"magenta\",\"magenta\",\"magenta\",\"magenta\",\"magenta\",\"magenta\",\"magenta\",\"magenta\",\"magenta\",\"magenta\",\"magenta\",\"magenta\",\"magenta\",\"magenta\",\"blue\",\"blue\",\"blue\",\"blue\",\"blue\",\"blue\",\"blue\",\"blue\",\"blue\",\"blue\",\"blue\",\"blue\",\"blue\",\"blue\",\"blue\",\"blue\",\"blue\",\"blue\",\"blue\",\"blue\",\"blue\",\"green\",\"green\",\"green\",\"green\",\"green\",\"green\",\"green\",\"green\",\"green\",\"green\",\"green\",\"green\",\"green\",\"green\",\"green\",\"green\",\"green\",\"green\",\"green\",\"green\",\"green\",\"green\"],\"size\":5},\"mode\":\"markers+text\",\"text\":[\"nephew\",\"son\",\"brother\",\"grandmother\",\"sister\",\"grandma\",\"daughter\",\"brother\",\"mom\",\"dad\",\"father\",\"aunt\",\"mother\",\"cousin\",\"niece\",\"grandson\",\"dad\",\"cousin\",\"stepdaughter\",\"duvet\",\"comforter\",\"mattress\",\"duvets\",\"pillowtop\",\"sheet\",\"sheets\",\"pillows\",\"quilts\",\"blankets\",\"bedspread\",\"bedding\",\"bed\",\"linen\",\"beds\",\"linens\",\"bedspreads\",\"3\",\"2\",\"4\",\"5\",\"6\",\"7\",\"8\",\"9\",\"10\",\"18\",\"20\",\"25\",\"27\",\"30\",\"90\",\"two\",\"three\",\"four\",\"six\",\"seven\",\"eight\",\"nine\",\"ten\",\"twenty\",\"amazing\",\"fantastic\",\"fabulous\",\"superb\",\"marvelous\",\"incredible\",\"phenomenal\",\"exceptional\",\"awsome\",\"remarkable\",\"excellent\",\"great\",\"good\",\"outstanding\",\"terrific\",\"brilliant\",\"extraordinary\",\"wonderful\",\"unbelievable\",\"tremendous\",\"perfect\",\"florida\",\"canada\",\"scotland\",\"oregon\",\"mexico\",\"ireland\",\"spain\",\"california\",\"hawaii\",\"pittsburgh\",\"sydney\",\"australia\",\"england\",\"germany\",\"alaska\",\"sweden\",\"norway\",\"atlanta\",\"boston\",\"montreal\",\"toronto\",\"peru\"],\"textfont\":{\"color\":\"black\",\"size\":10},\"textposition\":\"top center\",\"x\":[-1.332999348640442,-0.6568204164505005,-1.1745953559875488,-0.7389004230499268,-0.9234541058540344,-0.8909767866134644,-0.8550122380256653,-1.1745957136154175,-0.6921595335006714,-0.8348504900932312,-0.9719022512435913,-1.2394660711288452,-0.9107840061187744,-0.9309284687042236,-1.1029433012008667,-0.8996333479881287,-0.8348501324653625,-0.9309285879135132,-1.2026104927062988,2.1020350456237793,2.045609474182129,1.6368589401245117,2.275939702987671,2.250817060470581,1.8078616857528687,1.6859210729599,2.0171077251434326,2.043811082839966,1.8833446502685547,1.1360927820205688,1.742916226387024,1.5065160989761353,1.8478144407272339,1.5978204011917114,1.7869247198104858,1.3298704624176025,0.0786307230591774,0.3032713830471039,-0.04089654982089996,-0.01956505887210369,-0.2826365530490875,-0.3215603232383728,-0.2643229365348816,-0.5028402209281921,-0.0187570508569479,-0.35045909881591797,-0.04725237563252449,-0.09138017892837524,-0.5451363325119019,-0.17536184191703796,0.13305512070655823,0.3099973499774933,0.007310768123716116,-0.1367313116788864,-0.11647452414035797,-0.3913896679878235,-0.17749445140361786,-0.3890289068222046,-0.11341477930545807,0.0910072922706604,0.8955413103103638,0.8991818428039551,0.7461866736412048,0.9236865639686584,0.8077925443649292,1.0678279399871826,1.0017595291137695,0.6330487728118896,0.978031575679779,0.7352515459060669,0.8959940671920776,0.9389790892601013,1.092514991760254,0.6960434913635254,0.9278352856636047,0.8938543200492859,0.914723813533783,0.7249605655670166,0.8858813643455505,0.8612021207809448,0.7122146487236023,-1.125755786895752,-1.3674507141113281,-1.1508795022964478,-1.5206207036972046,-1.276914119720459,-0.8783565759658813,-1.1787900924682617,-1.0526366233825684,-1.2780718803405762,-1.7807244062423706,-1.3453603982925415,-1.178529977798462,-1.0882140398025513,-1.5038905143737793,-1.0425713062286377,-1.0866409540176392,-1.1155869960784912,-1.6382310390472412,-1.20498526096344,-1.5112993717193604,-1.2111477851867676,-1.0332766771316528],\"y\":[1.3370252847671509,1.0910683870315552,1.235357403755188,1.3629390001296997,1.032429575920105,0.8291390538215637,1.2357254028320312,1.235357403755188,1.2588365077972412,1.1462087631225586,1.0570011138916016,1.8383009433746338,1.0177983045578003,1.5025593042373657,1.4837656021118164,0.750186026096344,1.146208643913269,1.5025594234466553,1.977705717086792,1.4668747186660767,1.3264154195785522,1.05794095993042,1.0792324542999268,1.5064518451690674,0.9913725852966309,1.2711037397384644,0.7127555012702942,1.7842204570770264,0.7348266243934631,1.5726780891418457,0.7737395167350769,0.6492424011230469,0.9560953378677368,0.3809436857700348,0.8473389148712158,1.3738428354263306,-0.9729177951812744,-0.8514540791511536,-0.9349453449249268,-1.0555144548416138,-0.971792459487915,-1.0964758396148682,-0.9557737112045288,-0.5553848743438721,-0.891662061214447,-0.34987911581993103,-0.7192057371139526,-0.7987641096115112,-0.5459271669387817,-0.592471718788147,-0.6249525547027588,-0.8167425990104675,-1.0398157835006714,-0.9898187518119812,-0.9782066941261292,-0.8650611639022827,-1.1433875560760498,-0.6602227091789246,-0.9387509226799011,-0.6076707243919373,-0.8597656488418579,-0.9600428938865662,-0.8663994073867798,-1.0389504432678223,-1.0225168466567993,-0.9905615448951721,-0.7067203521728516,-0.7937939763069153,-0.6639692187309265,-1.0836377143859863,-1.0013610124588013,-0.9825897216796875,-0.8070791363716125,-0.9123062491416931,-1.1084345579147339,-1.0335972309112549,-0.7804072499275208,-0.9497022032737732,-0.8328887224197388,-0.8164315819740295,-0.8573046922683716,-0.46950241923332214,-0.22082556784152985,-0.13611222803592682,-0.15154632925987244,-0.3572559356689453,-0.10609538853168488,0.05287487804889679,-0.06452479213476181,0.10835211724042892,0.26306748390197754,0.0076328543946146965,-0.035371653735637665,0.02366681955754757,-0.2442578822374344,-0.018557341769337654,-0.052525393664836884,-0.2825357913970947,-0.281218558549881,-0.2887178063392639,-0.3988392651081085,-0.4058986306190491,-0.44180673360824585],\"z\":[-0.1212957352399826,0.587469220161438,0.28722646832466125,-0.17628991603851318,-0.22066761553287506,-0.1006731167435646,0.4205953776836395,0.2872259020805359,0.11755136400461197,-0.1462646722793579,0.08893012255430222,-0.22391019761562347,0.3490228056907654,0.02983580157160759,0.19055767357349396,0.4160512685775757,-0.14626480638980865,0.029835868626832962,0.21599474549293518,0.42140060663223267,-0.021073393523693085,-0.01911945641040802,0.14075683057308197,-0.28867945075035095,0.3756854236125946,0.2107429951429367,-0.0680321455001831,0.3543674647808075,0.5308593511581421,-0.022090109065175056,-0.02351381815969944,-0.08331909775733948,0.26849988102912903,-0.18203653395175934,0.008554949425160885,0.2882004976272583,1.0991127490997314,1.0167590379714966,1.0228437185287476,1.1363215446472168,1.217955231666565,1.2336276769638062,1.2906155586242676,1.3790287971496582,1.4287281036376953,1.2241870164871216,1.4330865144729614,1.4422671794891357,1.1461842060089111,1.4268620014190674,1.2079741954803467,0.6799049377441406,0.8550059199333191,0.7729476690292358,1.1028835773468018,1.2482558488845825,1.0358103513717651,1.344796895980835,1.2763688564300537,1.3024570941925049,-0.9367756843566895,-0.8451389074325562,-0.9928998351097107,-0.950383186340332,-0.8285027742385864,-0.9215649366378784,-0.8525015115737915,-1.0891869068145752,-0.7536741495132446,-1.0275863409042358,-0.802394688129425,-0.9406419396400452,-0.7446972131729126,-1.0331140756607056,-0.9700818061828613,-0.7793477773666382,-0.6926590800285339,-0.9290318489074707,-0.5729711651802063,-0.7562720775604248,-0.5316972732543945,-0.9011644721031189,-0.33460354804992676,-0.35013923048973083,-0.49489784240722656,-0.7547860145568848,-0.8099489212036133,-0.8813153505325317,-0.7430071830749512,-0.5421923398971558,-0.8356394171714783,-0.4373042583465576,-0.7560672163963318,-0.3262980580329895,-1.2763781547546387,-0.6709151268005371,-0.8551965355873108,-0.24961265921592712,-0.48925110697746277,-0.6225935220718384,-0.4627459943294525,-0.576515793800354,-0.7784361839294434],\"type\":\"scatter3d\"}],                        {\"height\":800,\"scene\":{\"xaxis\":{\"title\":{\"text\":\"X\"}},\"yaxis\":{\"title\":{\"text\":\"Y\"}},\"zaxis\":{\"title\":{\"text\":\"Z\"}}},\"title\":{\"text\":\"Word Embeddings in 3D clustering using k-means\"},\"width\":1200,\"template\":{\"data\":{\"histogram2dcontour\":[{\"type\":\"histogram2dcontour\",\"colorbar\":{\"outlinewidth\":0,\"ticks\":\"\"},\"colorscale\":[[0.0,\"#0d0887\"],[0.1111111111111111,\"#46039f\"],[0.2222222222222222,\"#7201a8\"],[0.3333333333333333,\"#9c179e\"],[0.4444444444444444,\"#bd3786\"],[0.5555555555555556,\"#d8576b\"],[0.6666666666666666,\"#ed7953\"],[0.7777777777777778,\"#fb9f3a\"],[0.8888888888888888,\"#fdca26\"],[1.0,\"#f0f921\"]]}],\"choropleth\":[{\"type\":\"choropleth\",\"colorbar\":{\"outlinewidth\":0,\"ticks\":\"\"}}],\"histogram2d\":[{\"type\":\"histogram2d\",\"colorbar\":{\"outlinewidth\":0,\"ticks\":\"\"},\"colorscale\":[[0.0,\"#0d0887\"],[0.1111111111111111,\"#46039f\"],[0.2222222222222222,\"#7201a8\"],[0.3333333333333333,\"#9c179e\"],[0.4444444444444444,\"#bd3786\"],[0.5555555555555556,\"#d8576b\"],[0.6666666666666666,\"#ed7953\"],[0.7777777777777778,\"#fb9f3a\"],[0.8888888888888888,\"#fdca26\"],[1.0,\"#f0f921\"]]}],\"heatmap\":[{\"type\":\"heatmap\",\"colorbar\":{\"outlinewidth\":0,\"ticks\":\"\"},\"colorscale\":[[0.0,\"#0d0887\"],[0.1111111111111111,\"#46039f\"],[0.2222222222222222,\"#7201a8\"],[0.3333333333333333,\"#9c179e\"],[0.4444444444444444,\"#bd3786\"],[0.5555555555555556,\"#d8576b\"],[0.6666666666666666,\"#ed7953\"],[0.7777777777777778,\"#fb9f3a\"],[0.8888888888888888,\"#fdca26\"],[1.0,\"#f0f921\"]]}],\"heatmapgl\":[{\"type\":\"heatmapgl\",\"colorbar\":{\"outlinewidth\":0,\"ticks\":\"\"},\"colorscale\":[[0.0,\"#0d0887\"],[0.1111111111111111,\"#46039f\"],[0.2222222222222222,\"#7201a8\"],[0.3333333333333333,\"#9c179e\"],[0.4444444444444444,\"#bd3786\"],[0.5555555555555556,\"#d8576b\"],[0.6666666666666666,\"#ed7953\"],[0.7777777777777778,\"#fb9f3a\"],[0.8888888888888888,\"#fdca26\"],[1.0,\"#f0f921\"]]}],\"contourcarpet\":[{\"type\":\"contourcarpet\",\"colorbar\":{\"outlinewidth\":0,\"ticks\":\"\"}}],\"contour\":[{\"type\":\"contour\",\"colorbar\":{\"outlinewidth\":0,\"ticks\":\"\"},\"colorscale\":[[0.0,\"#0d0887\"],[0.1111111111111111,\"#46039f\"],[0.2222222222222222,\"#7201a8\"],[0.3333333333333333,\"#9c179e\"],[0.4444444444444444,\"#bd3786\"],[0.5555555555555556,\"#d8576b\"],[0.6666666666666666,\"#ed7953\"],[0.7777777777777778,\"#fb9f3a\"],[0.8888888888888888,\"#fdca26\"],[1.0,\"#f0f921\"]]}],\"surface\":[{\"type\":\"surface\",\"colorbar\":{\"outlinewidth\":0,\"ticks\":\"\"},\"colorscale\":[[0.0,\"#0d0887\"],[0.1111111111111111,\"#46039f\"],[0.2222222222222222,\"#7201a8\"],[0.3333333333333333,\"#9c179e\"],[0.4444444444444444,\"#bd3786\"],[0.5555555555555556,\"#d8576b\"],[0.6666666666666666,\"#ed7953\"],[0.7777777777777778,\"#fb9f3a\"],[0.8888888888888888,\"#fdca26\"],[1.0,\"#f0f921\"]]}],\"mesh3d\":[{\"type\":\"mesh3d\",\"colorbar\":{\"outlinewidth\":0,\"ticks\":\"\"}}],\"scatter\":[{\"fillpattern\":{\"fillmode\":\"overlay\",\"size\":10,\"solidity\":0.2},\"type\":\"scatter\"}],\"parcoords\":[{\"type\":\"parcoords\",\"line\":{\"colorbar\":{\"outlinewidth\":0,\"ticks\":\"\"}}}],\"scatterpolargl\":[{\"type\":\"scatterpolargl\",\"marker\":{\"colorbar\":{\"outlinewidth\":0,\"ticks\":\"\"}}}],\"bar\":[{\"error_x\":{\"color\":\"#2a3f5f\"},\"error_y\":{\"color\":\"#2a3f5f\"},\"marker\":{\"line\":{\"color\":\"#E5ECF6\",\"width\":0.5},\"pattern\":{\"fillmode\":\"overlay\",\"size\":10,\"solidity\":0.2}},\"type\":\"bar\"}],\"scattergeo\":[{\"type\":\"scattergeo\",\"marker\":{\"colorbar\":{\"outlinewidth\":0,\"ticks\":\"\"}}}],\"scatterpolar\":[{\"type\":\"scatterpolar\",\"marker\":{\"colorbar\":{\"outlinewidth\":0,\"ticks\":\"\"}}}],\"histogram\":[{\"marker\":{\"pattern\":{\"fillmode\":\"overlay\",\"size\":10,\"solidity\":0.2}},\"type\":\"histogram\"}],\"scattergl\":[{\"type\":\"scattergl\",\"marker\":{\"colorbar\":{\"outlinewidth\":0,\"ticks\":\"\"}}}],\"scatter3d\":[{\"type\":\"scatter3d\",\"line\":{\"colorbar\":{\"outlinewidth\":0,\"ticks\":\"\"}},\"marker\":{\"colorbar\":{\"outlinewidth\":0,\"ticks\":\"\"}}}],\"scattermapbox\":[{\"type\":\"scattermapbox\",\"marker\":{\"colorbar\":{\"outlinewidth\":0,\"ticks\":\"\"}}}],\"scatterternary\":[{\"type\":\"scatterternary\",\"marker\":{\"colorbar\":{\"outlinewidth\":0,\"ticks\":\"\"}}}],\"scattercarpet\":[{\"type\":\"scattercarpet\",\"marker\":{\"colorbar\":{\"outlinewidth\":0,\"ticks\":\"\"}}}],\"carpet\":[{\"aaxis\":{\"endlinecolor\":\"#2a3f5f\",\"gridcolor\":\"white\",\"linecolor\":\"white\",\"minorgridcolor\":\"white\",\"startlinecolor\":\"#2a3f5f\"},\"baxis\":{\"endlinecolor\":\"#2a3f5f\",\"gridcolor\":\"white\",\"linecolor\":\"white\",\"minorgridcolor\":\"white\",\"startlinecolor\":\"#2a3f5f\"},\"type\":\"carpet\"}],\"table\":[{\"cells\":{\"fill\":{\"color\":\"#EBF0F8\"},\"line\":{\"color\":\"white\"}},\"header\":{\"fill\":{\"color\":\"#C8D4E3\"},\"line\":{\"color\":\"white\"}},\"type\":\"table\"}],\"barpolar\":[{\"marker\":{\"line\":{\"color\":\"#E5ECF6\",\"width\":0.5},\"pattern\":{\"fillmode\":\"overlay\",\"size\":10,\"solidity\":0.2}},\"type\":\"barpolar\"}],\"pie\":[{\"automargin\":true,\"type\":\"pie\"}]},\"layout\":{\"autotypenumbers\":\"strict\",\"colorway\":[\"#636efa\",\"#EF553B\",\"#00cc96\",\"#ab63fa\",\"#FFA15A\",\"#19d3f3\",\"#FF6692\",\"#B6E880\",\"#FF97FF\",\"#FECB52\"],\"font\":{\"color\":\"#2a3f5f\"},\"hovermode\":\"closest\",\"hoverlabel\":{\"align\":\"left\"},\"paper_bgcolor\":\"white\",\"plot_bgcolor\":\"#E5ECF6\",\"polar\":{\"bgcolor\":\"#E5ECF6\",\"angularaxis\":{\"gridcolor\":\"white\",\"linecolor\":\"white\",\"ticks\":\"\"},\"radialaxis\":{\"gridcolor\":\"white\",\"linecolor\":\"white\",\"ticks\":\"\"}},\"ternary\":{\"bgcolor\":\"#E5ECF6\",\"aaxis\":{\"gridcolor\":\"white\",\"linecolor\":\"white\",\"ticks\":\"\"},\"baxis\":{\"gridcolor\":\"white\",\"linecolor\":\"white\",\"ticks\":\"\"},\"caxis\":{\"gridcolor\":\"white\",\"linecolor\":\"white\",\"ticks\":\"\"}},\"coloraxis\":{\"colorbar\":{\"outlinewidth\":0,\"ticks\":\"\"}},\"colorscale\":{\"sequential\":[[0.0,\"#0d0887\"],[0.1111111111111111,\"#46039f\"],[0.2222222222222222,\"#7201a8\"],[0.3333333333333333,\"#9c179e\"],[0.4444444444444444,\"#bd3786\"],[0.5555555555555556,\"#d8576b\"],[0.6666666666666666,\"#ed7953\"],[0.7777777777777778,\"#fb9f3a\"],[0.8888888888888888,\"#fdca26\"],[1.0,\"#f0f921\"]],\"sequentialminus\":[[0.0,\"#0d0887\"],[0.1111111111111111,\"#46039f\"],[0.2222222222222222,\"#7201a8\"],[0.3333333333333333,\"#9c179e\"],[0.4444444444444444,\"#bd3786\"],[0.5555555555555556,\"#d8576b\"],[0.6666666666666666,\"#ed7953\"],[0.7777777777777778,\"#fb9f3a\"],[0.8888888888888888,\"#fdca26\"],[1.0,\"#f0f921\"]],\"diverging\":[[0,\"#8e0152\"],[0.1,\"#c51b7d\"],[0.2,\"#de77ae\"],[0.3,\"#f1b6da\"],[0.4,\"#fde0ef\"],[0.5,\"#f7f7f7\"],[0.6,\"#e6f5d0\"],[0.7,\"#b8e186\"],[0.8,\"#7fbc41\"],[0.9,\"#4d9221\"],[1,\"#276419\"]]},\"xaxis\":{\"gridcolor\":\"white\",\"linecolor\":\"white\",\"ticks\":\"\",\"title\":{\"standoff\":15},\"zerolinecolor\":\"white\",\"automargin\":true,\"zerolinewidth\":2},\"yaxis\":{\"gridcolor\":\"white\",\"linecolor\":\"white\",\"ticks\":\"\",\"title\":{\"standoff\":15},\"zerolinecolor\":\"white\",\"automargin\":true,\"zerolinewidth\":2},\"scene\":{\"xaxis\":{\"backgroundcolor\":\"#E5ECF6\",\"gridcolor\":\"white\",\"linecolor\":\"white\",\"showbackground\":true,\"ticks\":\"\",\"zerolinecolor\":\"white\",\"gridwidth\":2},\"yaxis\":{\"backgroundcolor\":\"#E5ECF6\",\"gridcolor\":\"white\",\"linecolor\":\"white\",\"showbackground\":true,\"ticks\":\"\",\"zerolinecolor\":\"white\",\"gridwidth\":2},\"zaxis\":{\"backgroundcolor\":\"#E5ECF6\",\"gridcolor\":\"white\",\"linecolor\":\"white\",\"showbackground\":true,\"ticks\":\"\",\"zerolinecolor\":\"white\",\"gridwidth\":2}},\"shapedefaults\":{\"line\":{\"color\":\"#2a3f5f\"}},\"annotationdefaults\":{\"arrowcolor\":\"#2a3f5f\",\"arrowhead\":0,\"arrowwidth\":1},\"geo\":{\"bgcolor\":\"white\",\"landcolor\":\"#E5ECF6\",\"subunitcolor\":\"white\",\"showland\":true,\"showlakes\":true,\"lakecolor\":\"white\"},\"title\":{\"x\":0.05},\"mapbox\":{\"style\":\"light\"}}}},                        {\"responsive\": true}                    ).then(function(){\n",
       "                            \n",
       "var gd = document.getElementById('c84ec3ca-3020-4277-815e-2bed2ba72b25');\n",
       "var x = new MutationObserver(function (mutations, observer) {{\n",
       "        var display = window.getComputedStyle(gd).display;\n",
       "        if (!display || display === 'none') {{\n",
       "            console.log([gd, 'removed!']);\n",
       "            Plotly.purge(gd);\n",
       "            observer.disconnect();\n",
       "        }}\n",
       "}});\n",
       "\n",
       "// Listen for the removal of the full notebook cells\n",
       "var notebookContainer = gd.closest('#notebook-container');\n",
       "if (notebookContainer) {{\n",
       "    x.observe(notebookContainer, {childList: true});\n",
       "}}\n",
       "\n",
       "// Listen for the clearing of the current output cell\n",
       "var outputEl = gd.closest('.output');\n",
       "if (outputEl) {{\n",
       "    x.observe(outputEl, {childList: true});\n",
       "}}\n",
       "\n",
       "                        })                };                });            </script>        </div>"
      ]
     },
     "metadata": {},
     "output_type": "display_data"
    }
   ],
   "source": [
    "# generate the colors list per cluster\n",
    "colors = []\n",
    "for word in word_list:\n",
    "    if word in clusters[0]:\n",
    "        colors.append('red')\n",
    "    elif word in clusters[1]:\n",
    "        colors.append('green')\n",
    "    elif word in clusters[2]:\n",
    "        colors.append('blue')\n",
    "    elif word in clusters[3]:\n",
    "        colors.append('magenta')\n",
    "    elif word in clusters[4]:\n",
    "        colors.append('yellow')  \n",
    "    else:\n",
    "        colors.append('cyan')\n",
    "\n",
    "# create a 3D scatter plot\n",
    "scatter = go.Scatter3d(\n",
    "    x=word_embeddings_pca[:, 0],\n",
    "    y=word_embeddings_pca[:, 1],\n",
    "    z=word_embeddings_pca[:, 2],\n",
    "    mode='markers+text',\n",
    "    text=word_list,\n",
    "    textposition='top center',\n",
    "    marker=dict(\n",
    "        size=5,\n",
    "        color=colors,\n",
    "    ),\n",
    "    textfont=dict(\n",
    "        size=10,\n",
    "        color='black'\n",
    "    )\n",
    ")\n",
    "\n",
    "# define the layout of the plot\n",
    "layout = go.Layout(\n",
    "    title='Word Embeddings in 3D clustering using k-means',\n",
    "    width=1200,\n",
    "    height=800,\n",
    "    scene=dict(\n",
    "        xaxis=dict(title='X'),\n",
    "        yaxis=dict(title='Y'),\n",
    "        zaxis=dict(title='Z')\n",
    "    )\n",
    ")\n",
    "\n",
    "fig = go.Figure(data=[scatter], layout=layout)\n",
    "pio.show(fig)"
   ]
  },
  {
   "cell_type": "markdown",
   "id": "916ca3f7-4799-4f1b-a7e4-35abfcba539c",
   "metadata": {},
   "source": [
    "As shown by the different colors on the plot, K-means performed the clustering successfully."
   ]
  }
 ],
 "metadata": {
  "kernelspec": {
   "display_name": "Python 3 (ipykernel)",
   "language": "python",
   "name": "python3"
  },
  "language_info": {
   "codemirror_mode": {
    "name": "ipython",
    "version": 3
   },
   "file_extension": ".py",
   "mimetype": "text/x-python",
   "name": "python",
   "nbconvert_exporter": "python",
   "pygments_lexer": "ipython3",
   "version": "3.10.14"
  }
 },
 "nbformat": 4,
 "nbformat_minor": 5
}
